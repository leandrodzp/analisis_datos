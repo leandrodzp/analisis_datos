{
 "cells": [
  {
   "cell_type": "markdown",
   "id": "202cffd0-385b-47da-808c-6dea0011b996",
   "metadata": {},
   "source": [
    "## Estudio de componentes principales con LDA"
   ]
  },
  {
   "cell_type": "markdown",
   "id": "4680cbf1-3b9f-4618-8462-8d06fc1164c6",
   "metadata": {},
   "source": [
    "##### En el presente documento se utilizará el módulo LDA (Latent Dirichlet Allocation) para encontrar distintos tópicos a través de los dos datasets: el compuesto por tuits y el compuesto por menúes de comidas."
   ]
  },
  {
   "cell_type": "code",
   "execution_count": 45,
   "id": "6895002f-c6ad-4f72-add5-14aaa343a8bb",
   "metadata": {},
   "outputs": [],
   "source": [
    "import nltk\n",
    "import pandas as pd\n",
    "import numpy as np\n",
    "from nltk.tokenize import word_tokenize\n",
    "from nltk.stem import SnowballStemmer\n",
    "\n",
    "import gensim\n",
    "from gensim.models.doc2vec import Doc2Vec, TaggedDocument\n",
    "\n",
    "from gensim.corpora import Dictionary"
   ]
  },
  {
   "cell_type": "markdown",
   "id": "240f9b77-0458-4c57-9f27-bdb054cfb1e3",
   "metadata": {},
   "source": [
    "### Para el corpus formado por tuits extraídos"
   ]
  },
  {
   "cell_type": "code",
   "execution_count": 36,
   "id": "b305ea4f-de86-4b4b-98cd-112733bd724b",
   "metadata": {},
   "outputs": [],
   "source": [
    "dataset = pd.read_csv('preprocessed_tweets_ww.csv', index_col=False)\n",
    "dataset.dropna(inplace=True)"
   ]
  },
  {
   "cell_type": "code",
   "execution_count": 37,
   "id": "4aa70bc8-54dc-42db-b76d-fc91086c7812",
   "metadata": {},
   "outputs": [
    {
     "data": {
      "text/html": [
       "<div>\n",
       "<style scoped>\n",
       "    .dataframe tbody tr th:only-of-type {\n",
       "        vertical-align: middle;\n",
       "    }\n",
       "\n",
       "    .dataframe tbody tr th {\n",
       "        vertical-align: top;\n",
       "    }\n",
       "\n",
       "    .dataframe thead th {\n",
       "        text-align: right;\n",
       "    }\n",
       "</style>\n",
       "<table border=\"1\" class=\"dataframe\">\n",
       "  <thead>\n",
       "    <tr style=\"text-align: right;\">\n",
       "      <th></th>\n",
       "      <th>screen_names</th>\n",
       "      <th>texts</th>\n",
       "      <th>dates</th>\n",
       "      <th>langs</th>\n",
       "    </tr>\n",
       "  </thead>\n",
       "  <tbody>\n",
       "    <tr>\n",
       "      <th>0</th>\n",
       "      <td>excessvs</td>\n",
       "      <td>vida italiana llena cliches mismo mano rozo kh...</td>\n",
       "      <td>2021-04-28 00:20:33</td>\n",
       "      <td>es</td>\n",
       "    </tr>\n",
       "    <tr>\n",
       "      <th>1</th>\n",
       "      <td>EuSiso</td>\n",
       "      <td>meses comer hamburguesa pasta cuerpo bueno chi...</td>\n",
       "      <td>2021-04-28 00:20:28</td>\n",
       "      <td>es</td>\n",
       "    </tr>\n",
       "    <tr>\n",
       "      <th>2</th>\n",
       "      <td>_Sosaluis_</td>\n",
       "      <td>ganas hamburguesa</td>\n",
       "      <td>2021-04-28 00:20:14</td>\n",
       "      <td>es</td>\n",
       "    </tr>\n",
       "    <tr>\n",
       "      <th>3</th>\n",
       "      <td>SierraTeff</td>\n",
       "      <td>milanesa hamburguesa team cafinapp</td>\n",
       "      <td>2021-04-28 00:20:06</td>\n",
       "      <td>es</td>\n",
       "    </tr>\n",
       "    <tr>\n",
       "      <th>4</th>\n",
       "      <td>DraArias</td>\n",
       "      <td>haciendo pan brioche hamburguesa saboreando</td>\n",
       "      <td>2021-04-28 00:19:48</td>\n",
       "      <td>es</td>\n",
       "    </tr>\n",
       "    <tr>\n",
       "      <th>...</th>\n",
       "      <td>...</td>\n",
       "      <td>...</td>\n",
       "      <td>...</td>\n",
       "      <td>...</td>\n",
       "    </tr>\n",
       "    <tr>\n",
       "      <th>9463</th>\n",
       "      <td>isaprzg</td>\n",
       "      <td>unas ganas asquerosas hamburguesa papas gajo n...</td>\n",
       "      <td>2021-04-25 21:58:50</td>\n",
       "      <td>es</td>\n",
       "    </tr>\n",
       "    <tr>\n",
       "      <th>9464</th>\n",
       "      <td>linternasazules</td>\n",
       "      <td>seis tarrinas helado limon galletas chocolate ...</td>\n",
       "      <td>2021-04-25 21:58:44</td>\n",
       "      <td>es</td>\n",
       "    </tr>\n",
       "    <tr>\n",
       "      <th>9465</th>\n",
       "      <td>curly_Bae_bae</td>\n",
       "      <td>copio grr usa marcar comes mayonesa dulce lech...</td>\n",
       "      <td>2021-04-25 21:58:44</td>\n",
       "      <td>es</td>\n",
       "    </tr>\n",
       "    <tr>\n",
       "      <th>9466</th>\n",
       "      <td>wafibreadbar</td>\n",
       "      <td>usa marcar comes mostaza pepinillo cilantro pi...</td>\n",
       "      <td>2021-04-25 21:58:40</td>\n",
       "      <td>es</td>\n",
       "    </tr>\n",
       "    <tr>\n",
       "      <th>9467</th>\n",
       "      <td>AnaLvsMomo</td>\n",
       "      <td>tae mayonesa miel pizza piña sushi higado hamb...</td>\n",
       "      <td>2021-04-25 21:58:33</td>\n",
       "      <td>es</td>\n",
       "    </tr>\n",
       "  </tbody>\n",
       "</table>\n",
       "<p>9465 rows × 4 columns</p>\n",
       "</div>"
      ],
      "text/plain": [
       "         screen_names                                              texts  \\\n",
       "0            excessvs  vida italiana llena cliches mismo mano rozo kh...   \n",
       "1              EuSiso  meses comer hamburguesa pasta cuerpo bueno chi...   \n",
       "2          _Sosaluis_                                  ganas hamburguesa   \n",
       "3          SierraTeff                 milanesa hamburguesa team cafinapp   \n",
       "4            DraArias        haciendo pan brioche hamburguesa saboreando   \n",
       "...               ...                                                ...   \n",
       "9463          isaprzg  unas ganas asquerosas hamburguesa papas gajo n...   \n",
       "9464  linternasazules  seis tarrinas helado limon galletas chocolate ...   \n",
       "9465    curly_Bae_bae  copio grr usa marcar comes mayonesa dulce lech...   \n",
       "9466     wafibreadbar  usa marcar comes mostaza pepinillo cilantro pi...   \n",
       "9467       AnaLvsMomo  tae mayonesa miel pizza piña sushi higado hamb...   \n",
       "\n",
       "                    dates langs  \n",
       "0     2021-04-28 00:20:33    es  \n",
       "1     2021-04-28 00:20:28    es  \n",
       "2     2021-04-28 00:20:14    es  \n",
       "3     2021-04-28 00:20:06    es  \n",
       "4     2021-04-28 00:19:48    es  \n",
       "...                   ...   ...  \n",
       "9463  2021-04-25 21:58:50    es  \n",
       "9464  2021-04-25 21:58:44    es  \n",
       "9465  2021-04-25 21:58:44    es  \n",
       "9466  2021-04-25 21:58:40    es  \n",
       "9467  2021-04-25 21:58:33    es  \n",
       "\n",
       "[9465 rows x 4 columns]"
      ]
     },
     "execution_count": 37,
     "metadata": {},
     "output_type": "execute_result"
    }
   ],
   "source": [
    "dataset"
   ]
  },
  {
   "cell_type": "code",
   "execution_count": 35,
   "id": "e4913c46-38c3-482e-bffb-da455a675e59",
   "metadata": {},
   "outputs": [],
   "source": [
    "LDA = gensim.models.ldamodel.LdaModel"
   ]
  },
  {
   "cell_type": "markdown",
   "id": "1fc1f3d4-71df-4655-b8a7-17b84cca2386",
   "metadata": {},
   "source": [
    "#### Como los tuits fueron recolectados si contenían la palabra `hamburguesa`, la eliminaremos del vocabulario para evitar ruido en la detección de tópicos."
   ]
  },
  {
   "cell_type": "code",
   "execution_count": 32,
   "id": "3319d97c-a350-4830-8cbd-3d3ddbd5b3e4",
   "metadata": {
    "tags": []
   },
   "outputs": [],
   "source": [
    "texts = list(dataset['texts'].str.replace(\"hamburguesa\", \"\"))\n",
    "tokenized_texts = [text.split() for text in texts]"
   ]
  },
  {
   "cell_type": "code",
   "execution_count": 33,
   "id": "9a208d0a-6718-4254-bd05-f8ad0dbcdffe",
   "metadata": {},
   "outputs": [],
   "source": [
    "dictionary = Dictionary(tokenized_texts)\n",
    "doc_term_matrix = [dictionary.doc2bow(line) for line in tokenized_texts]"
   ]
  },
  {
   "cell_type": "code",
   "execution_count": 36,
   "id": "cfced3ff-a59b-497f-bded-76b945c29406",
   "metadata": {},
   "outputs": [],
   "source": [
    "lda_model = LDA(corpus=doc_term_matrix, id2word=dictionary, num_topics=5, random_state=100,\n",
    "                chunksize=1000, passes=50,iterations=100)"
   ]
  },
  {
   "cell_type": "code",
   "execution_count": 40,
   "id": "90f285c1-b3d9-40ec-9e8a-1c513c243329",
   "metadata": {},
   "outputs": [
    {
     "data": {
      "text/plain": [
       "[(0,\n",
       "  '0.032*\"ganas\" + 0.022*\"comer\" + 0.013*\"voy\" + 0.012*\"s\" + 0.011*\"mas\" + 0.010*\"si\" + 0.009*\"buena\" + 0.009*\"mayonesa\" + 0.007*\"q\" + 0.007*\"mc\"'),\n",
       " (1,\n",
       "  '0.021*\"si\" + 0.019*\"m\" + 0.015*\"probe\" + 0.015*\"twt\" + 0.014*\"antojo\" + 0.011*\"nunca\" + 0.010*\"q\" + 0.009*\"necesito\" + 0.009*\"i\" + 0.009*\"gusta\"'),\n",
       " (2,\n",
       "  '0.042*\"quiero\" + 0.016*\"papas\" + 0.014*\"comer\" + 0.011*\"cheddar\" + 0.010*\"ganas\" + 0.009*\"si\" + 0.009*\"solo\" + 0.009*\"queso\" + 0.008*\"q\" + 0.007*\"comida\"'),\n",
       " (3,\n",
       "  '0.093*\"pizza\" + 0.088*\"mostaza\" + 0.088*\"sushi\" + 0.087*\"cilantro\" + 0.086*\"piña\" + 0.085*\"pepinillo\" + 0.081*\"usa\" + 0.077*\"comes\" + 0.076*\"brocoli\" + 0.068*\"marcar\"'),\n",
       " (4,\n",
       "  '0.011*\"si\" + 0.010*\"q\" + 0.008*\"mas\" + 0.008*\"comiendo\" + 0.008*\"ver\" + 0.007*\"hoy\" + 0.007*\"siempre\" + 0.006*\"comi\" + 0.006*\"food\" + 0.006*\"mejor\"')]"
      ]
     },
     "execution_count": 40,
     "metadata": {},
     "output_type": "execute_result"
    }
   ],
   "source": [
    "topics = lda_model.print_topics()\n",
    "topics"
   ]
  },
  {
   "cell_type": "markdown",
   "id": "a9292e83-5601-44dc-9233-c99b1398eb72",
   "metadata": {},
   "source": [
    "##### Si bien no es fácil distinguir tópicos coherentes de los vectores obtenidos, podemos buscar algunos patrones:"
   ]
  },
  {
   "cell_type": "markdown",
   "id": "73a145e1-abce-487e-9fdc-3b66a47ca85e",
   "metadata": {},
   "source": [
    "#### Análisis del tópico 0"
   ]
  },
  {
   "cell_type": "code",
   "execution_count": 41,
   "id": "08f8c447-7bd8-40cf-955b-9cb395c9733d",
   "metadata": {},
   "outputs": [
    {
     "data": {
      "text/plain": [
       "(0,\n",
       " '0.032*\"ganas\" + 0.022*\"comer\" + 0.013*\"voy\" + 0.012*\"s\" + 0.011*\"mas\" + 0.010*\"si\" + 0.009*\"buena\" + 0.009*\"mayonesa\" + 0.007*\"q\" + 0.007*\"mc\"')"
      ]
     },
     "execution_count": 41,
     "metadata": {},
     "output_type": "execute_result"
    }
   ],
   "source": [
    "topics[0]"
   ]
  },
  {
   "cell_type": "markdown",
   "id": "a30ea2bc-97e2-4f8b-853d-0ae8f9802e14",
   "metadata": {},
   "source": [
    "##### Por las palabras que componen a este tópico, se podría pensar que el mismo reúne los comentarios que expresan en deseo de comer una hamburguesa. Aunque con poca probabilidad, aparece el token \"Mc\" (haciendo referencia al restaurante de comida rápida Mc Donald's)."
   ]
  },
  {
   "cell_type": "markdown",
   "id": "48cb7bda-fd92-4f3e-81cb-405eb923f19d",
   "metadata": {},
   "source": [
    "#### Análisis del tópico 3"
   ]
  },
  {
   "cell_type": "code",
   "execution_count": 42,
   "id": "656221d7-0be0-425c-b601-d082fe781d36",
   "metadata": {},
   "outputs": [
    {
     "data": {
      "text/plain": [
       "(3,\n",
       " '0.093*\"pizza\" + 0.088*\"mostaza\" + 0.088*\"sushi\" + 0.087*\"cilantro\" + 0.086*\"piña\" + 0.085*\"pepinillo\" + 0.081*\"usa\" + 0.077*\"comes\" + 0.076*\"brocoli\" + 0.068*\"marcar\"')"
      ]
     },
     "execution_count": 42,
     "metadata": {},
     "output_type": "execute_result"
    }
   ],
   "source": [
    "topics[3]"
   ]
  },
  {
   "cell_type": "markdown",
   "id": "5725ae2d-3969-40f3-a073-87fdf0a01b5d",
   "metadata": {},
   "source": [
    "La mayoría de los componentes de este vector pertenecen a la cadena mencionada anteriormente formada por cientos de tuits, por lo que no sorprende que el algoritmo haya detectado las palabras que lo componen como un tema."
   ]
  },
  {
   "cell_type": "markdown",
   "id": "19e07874-7c88-45d1-9948-1ff9964d29a6",
   "metadata": {},
   "source": [
    "### Para el corpus formado por menúes de comida"
   ]
  },
  {
   "cell_type": "code",
   "execution_count": 58,
   "id": "a970e3aa-4e1a-437e-a647-eb04a44fbb7d",
   "metadata": {},
   "outputs": [
    {
     "data": {
      "text/plain": [
       "0    hamburguesa vegetariana ciser hamburguesa garb...\n",
       "1    godiee burger g carne lentejas pan rucula alba...\n",
       "2    hamburguesa vegetariana doble hamburguesa lent...\n",
       "3    hamburguesa vegetariana pan artesanal sesamo h...\n",
       "4    hamburguesa vegetariana pan batta dos hamburgu...\n",
       "Name: description, dtype: object"
      ]
     },
     "execution_count": 58,
     "metadata": {},
     "output_type": "execute_result"
    }
   ],
   "source": [
    "menues_samples = pd.read_csv('datasets/food_preprocessed.csv')\n",
    "menues_samples['description'].head()"
   ]
  },
  {
   "cell_type": "code",
   "execution_count": 59,
   "id": "8bfa41cf-50e5-49d3-b353-858372c3ba7b",
   "metadata": {},
   "outputs": [],
   "source": [
    "menues_LDA = gensim.models.ldamodel.LdaModel"
   ]
  },
  {
   "cell_type": "markdown",
   "id": "6cfbe96f-3ac0-4045-be4f-c0a40951db71",
   "metadata": {},
   "source": [
    "#### Aplicamos el mismo criterio y removemos la ocurrencia del string `hamburguesa`"
   ]
  },
  {
   "cell_type": "code",
   "execution_count": 60,
   "id": "08abeebd-5342-446d-b0c0-a3750839a0a5",
   "metadata": {},
   "outputs": [],
   "source": [
    "menues_texts = list(menues_samples['description'].str.replace(\"hamburguesa\", \"\"))\n",
    "menues_tokenized_texts = [text.split() for text in menues_texts]"
   ]
  },
  {
   "cell_type": "code",
   "execution_count": 62,
   "id": "bea1170a-7e73-423a-9150-1fdba97cff8f",
   "metadata": {},
   "outputs": [],
   "source": [
    "menues_dictionary = Dictionary(menues_tokenized_texts)\n",
    "menues_doc_term_matrix = [menues_dictionary.doc2bow(doc) for doc in menues_tokenized_texts]"
   ]
  },
  {
   "cell_type": "code",
   "execution_count": 68,
   "id": "c3c7f6de-3f0f-439a-8263-8924689ee0dc",
   "metadata": {},
   "outputs": [],
   "source": [
    "menues_lda_model = LDA(corpus=menues_doc_term_matrix, id2word=menues_dictionary, num_topics=5, random_state=100,\n",
    "                chunksize=1000, passes=50,iterations=100)"
   ]
  },
  {
   "cell_type": "code",
   "execution_count": 69,
   "id": "b468d8a8-df55-4f48-9ceb-6cc96f2cfbc5",
   "metadata": {},
   "outputs": [
    {
     "data": {
      "text/plain": [
       "[(0,\n",
       "  '0.068*\"cheddar\" + 0.047*\"cebolla\" + 0.045*\"doble\" + 0.043*\"carne\" + 0.042*\"queso\" + 0.039*\"panceta\" + 0.037*\"salsa\" + 0.035*\"pan\" + 0.030*\"burger\" + 0.023*\"g\"'),\n",
       " (1,\n",
       "  '0.071*\"promo\" + 0.057*\"ml\" + 0.044*\"pollo\" + 0.037*\"coca\" + 0.036*\"cola\" + 0.028*\"combo\" + 0.025*\"olimpico\" + 0.024*\"burger\" + 0.023*\"refresco\" + 0.020*\"bebida\"'),\n",
       " (2,\n",
       "  '0.098*\"fritas\" + 0.090*\"papas\" + 0.083*\"tomate\" + 0.079*\"lechuga\" + 0.069*\"huevo\" + 0.054*\"mayonesa\" + 0.051*\"jamon\" + 0.039*\"muzzarella\" + 0.036*\"pan\" + 0.031*\"completa\"'),\n",
       " (3,\n",
       "  '0.228*\"sandwich\" + 0.113*\"caliente\" + 0.089*\"jamon\" + 0.080*\"muzzarella\" + 0.079*\"queso\" + 0.034*\"comun\" + 0.028*\"tomate\" + 0.023*\"unidades\" + 0.019*\"napolitano\" + 0.018*\"pan\"'),\n",
       " (4,\n",
       "  '0.066*\"plato\" + 0.054*\"casera\" + 0.050*\"guarnicion\" + 0.042*\"menu\" + 0.039*\"gustos\" + 0.034*\"zanahoria\" + 0.031*\"viernes\" + 0.030*\"carne\" + 0.030*\"ensalada\" + 0.030*\"pan\"')]"
      ]
     },
     "execution_count": 69,
     "metadata": {},
     "output_type": "execute_result"
    }
   ],
   "source": [
    "topics = menues_lda_model.print_topics()\n",
    "topics"
   ]
  },
  {
   "cell_type": "markdown",
   "id": "7cc59491-f8e8-4125-a6e4-abcea5f7d09d",
   "metadata": {},
   "source": [
    "##### A diferencia del dataset anterior, es más fácil distinguir tópicas en con estos vectores"
   ]
  },
  {
   "cell_type": "markdown",
   "id": "74074d8e-393e-40f5-82df-c3f3ce3517d4",
   "metadata": {},
   "source": [
    "#### Análisis del tópico 0"
   ]
  },
  {
   "cell_type": "code",
   "execution_count": 70,
   "id": "8984e013-5f12-4e8d-ae9d-d3fec22801b8",
   "metadata": {},
   "outputs": [
    {
     "data": {
      "text/plain": [
       "(0,\n",
       " '0.068*\"cheddar\" + 0.047*\"cebolla\" + 0.045*\"doble\" + 0.043*\"carne\" + 0.042*\"queso\" + 0.039*\"panceta\" + 0.037*\"salsa\" + 0.035*\"pan\" + 0.030*\"burger\" + 0.023*\"g\"')"
      ]
     },
     "execution_count": 70,
     "metadata": {},
     "output_type": "execute_result"
    }
   ],
   "source": [
    "topics[0]"
   ]
  },
  {
   "cell_type": "markdown",
   "id": "f0e57163-b327-49c6-8726-a9d971dc5ace",
   "metadata": {},
   "source": [
    "Por las palabras que lo componen `carne`, `burguer`, `pan`, `cheddar`, `queso`, `cebolla` parece claro indicar que está concentrando la información de los menúes que ofrecen hamburguesas al pan."
   ]
  },
  {
   "cell_type": "markdown",
   "id": "d0bd4ae1-e043-415d-b755-20f9d40a0b00",
   "metadata": {},
   "source": [
    "#### Análisis del tópico 1"
   ]
  },
  {
   "cell_type": "code",
   "execution_count": 71,
   "id": "876a6762-bc18-4120-8827-61054df38593",
   "metadata": {},
   "outputs": [
    {
     "data": {
      "text/plain": [
       "(1,\n",
       " '0.071*\"promo\" + 0.057*\"ml\" + 0.044*\"pollo\" + 0.037*\"coca\" + 0.036*\"cola\" + 0.028*\"combo\" + 0.025*\"olimpico\" + 0.024*\"burger\" + 0.023*\"refresco\" + 0.020*\"bebida\"')"
      ]
     },
     "execution_count": 71,
     "metadata": {},
     "output_type": "execute_result"
    }
   ],
   "source": [
    "topics[1]"
   ]
  },
  {
   "cell_type": "markdown",
   "id": "74fdc690-3eb8-43ea-9d8f-af8720e9bb94",
   "metadata": {},
   "source": [
    "Si bien hay algunos términos mezclados, no es difícil inferir que este tópico representa la existencia de las \"promos\" (o \"combos\") siendo combinaciones entre bebidas (representadas por las palabras `bebida`, `refresco`, `coca`, `cola` y `ml`) y comidas (`pollo`, `olimpico`, `burguer`)."
   ]
  },
  {
   "cell_type": "markdown",
   "id": "55127e0e-6e4f-4a42-b748-02ed4cfe7f8c",
   "metadata": {},
   "source": [
    "##### Como conclusión, vale destacar cómo los tópicos se hacen más claros utilizando el dataset compuesto por menúes, donde no hay tantas variedades como el corpus compuesto por tuits."
   ]
  }
 ],
 "metadata": {
  "kernelspec": {
   "display_name": "analisis",
   "language": "python",
   "name": "analisis"
  },
  "language_info": {
   "codemirror_mode": {
    "name": "ipython",
    "version": 3
   },
   "file_extension": ".py",
   "mimetype": "text/x-python",
   "name": "python",
   "nbconvert_exporter": "python",
   "pygments_lexer": "ipython3",
   "version": "3.7.9"
  }
 },
 "nbformat": 4,
 "nbformat_minor": 5
}
