{
 "cells": [
  {
   "cell_type": "code",
   "execution_count": 1,
   "id": "still-gathering",
   "metadata": {},
   "outputs": [
    {
     "ename": "ModuleNotFoundError",
     "evalue": "No module named 'dotenv'",
     "output_type": "error",
     "traceback": [
      "\u001b[0;31m---------------------------------------------------------------------------\u001b[0m",
      "\u001b[0;31mModuleNotFoundError\u001b[0m                       Traceback (most recent call last)",
      "\u001b[0;32m<ipython-input-1-d58acda7b07e>\u001b[0m in \u001b[0;36m<module>\u001b[0;34m\u001b[0m\n\u001b[1;32m      4\u001b[0m \u001b[0;32mimport\u001b[0m \u001b[0mtime\u001b[0m\u001b[0;34m\u001b[0m\u001b[0;34m\u001b[0m\u001b[0m\n\u001b[1;32m      5\u001b[0m \u001b[0;32mimport\u001b[0m \u001b[0msys\u001b[0m\u001b[0;34m\u001b[0m\u001b[0;34m\u001b[0m\u001b[0m\n\u001b[0;32m----> 6\u001b[0;31m \u001b[0;32mfrom\u001b[0m \u001b[0mdotenv\u001b[0m \u001b[0;32mimport\u001b[0m \u001b[0mdotenv_values\u001b[0m\u001b[0;34m\u001b[0m\u001b[0;34m\u001b[0m\u001b[0m\n\u001b[0m",
      "\u001b[0;31mModuleNotFoundError\u001b[0m: No module named 'dotenv'"
     ]
    }
   ],
   "source": [
    "import tweepy\n",
    "import csv\n",
    "import pandas as pd\n",
    "import time\n",
    "import sys"
   ]
  },
  {
   "cell_type": "code",
   "execution_count": 2,
   "id": "tamil-investing",
   "metadata": {},
   "outputs": [],
   "source": [
    "keys = dotenv_values(\".env\")"
   ]
  },
  {
   "cell_type": "code",
   "execution_count": 2,
   "id": "exotic-ethernet",
   "metadata": {},
   "outputs": [],
   "source": [
    "consumer_key = 'gKQDiT2GniCk4cP0W6yBToKxg'\n",
    "consumer_secret = 'CsGE3KOyxSnZvoep0NQP32E4hMG2EfB0ajuqXieEF13g8r0Ahl'\n",
    "access_key = '1366804716592762884-eCx6fenCakWmP6aWGKTyv2PuXKfh4n'\n",
    "access_secret = 'ls9HZtCICaTRr63RUbKwbYb4zzAysHAKRHtlazJqluqzU'\n",
    "\n",
    "OAUTH_KEYS = {'consumer_key':consumer_key, 'consumer_secret':consumer_secret, 'access_token_key':access_key, 'access_token_secret':access_secret}\n",
    "auth = tweepy.OAuthHandler(OAUTH_KEYS['consumer_key'], OAUTH_KEYS['consumer_secret'])\n",
    "api = tweepy.API(auth, wait_on_rate_limit=True, wait_on_rate_limit_notify=True)"
   ]
  },
  {
   "cell_type": "code",
   "execution_count": 3,
   "id": "standing-cocktail",
   "metadata": {
    "scrolled": true
   },
   "outputs": [
    {
     "data": {
      "text/plain": [
       "'%22hamburguesa con%22 -filter:retweets'"
      ]
     },
     "execution_count": 3,
     "metadata": {},
     "output_type": "execute_result"
    }
   ],
   "source": [
    "query = \"%22hamburguesa con%22\" + \" -filter:retweets\"\n",
    "query"
   ]
  },
  {
   "cell_type": "code",
   "execution_count": 8,
   "id": "billion-sphere",
   "metadata": {},
   "outputs": [],
   "source": [
    "results = tweepy.Cursor(api.search, q=query).items(10000)"
   ]
  },
  {
   "cell_type": "code",
   "execution_count": 9,
   "id": "coordinated-prime",
   "metadata": {},
   "outputs": [],
   "source": [
    "screen_names = []\n",
    "texts = []\n",
    "dates = []\n",
    "langs = []\n",
    "for tweet in results:\n",
    "    screen_names.append(tweet.user.screen_name)\n",
    "    texts.append(tweet.text)\n",
    "    dates.append(tweet.created_at)\n",
    "    langs.append(tweet.lang)"
   ]
  },
  {
   "cell_type": "code",
   "execution_count": 11,
   "id": "closing-prisoner",
   "metadata": {},
   "outputs": [
    {
     "name": "stdout",
     "output_type": "stream",
     "text": [
      "1563\n"
     ]
    }
   ],
   "source": [
    "print(len(screen_names))\n",
    "\n",
    "df = pd.DataFrame()\n",
    "df['screen_names'] = screen_names\n",
    "df['texts'] = texts\n",
    "df['dates'] = dates\n",
    "df['langs'] = langs\n",
    "df.to_csv('tweets_worldwide.csv')"
   ]
  },
  {
   "cell_type": "code",
   "execution_count": null,
   "id": "09e4d797-d467-40f1-a02e-43bd07194eb6",
   "metadata": {},
   "outputs": [],
   "source": []
  }
 ],
 "metadata": {
  "kernelspec": {
   "display_name": "analisis",
   "language": "python",
   "name": "analisis"
  },
  "language_info": {
   "codemirror_mode": {
    "name": "ipython",
    "version": 3
   },
   "file_extension": ".py",
   "mimetype": "text/x-python",
   "name": "python",
   "nbconvert_exporter": "python",
   "pygments_lexer": "ipython3",
   "version": "3.7.9"
  }
 },
 "nbformat": 4,
 "nbformat_minor": 5
}
