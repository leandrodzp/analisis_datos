{
 "cells": [
  {
   "cell_type": "markdown",
   "id": "2e8a4d81",
   "metadata": {},
   "source": [
    "# Entrega\n",
    "## Grafos\n",
    "En esta instancia, se obtiene un conjunto de datos de una plataforma de comida ya establecida. El mismo contiene los menues disponibles en la plataforma para distintos negocios de comida."
   ]
  },
  {
   "cell_type": "code",
   "execution_count": 49,
   "id": "4a0aa114",
   "metadata": {},
   "outputs": [
    {
     "data": {
      "text/html": [
       "<div>\n",
       "<style scoped>\n",
       "    .dataframe tbody tr th:only-of-type {\n",
       "        vertical-align: middle;\n",
       "    }\n",
       "\n",
       "    .dataframe tbody tr th {\n",
       "        vertical-align: top;\n",
       "    }\n",
       "\n",
       "    .dataframe thead th {\n",
       "        text-align: right;\n",
       "    }\n",
       "</style>\n",
       "<table border=\"1\" class=\"dataframe\">\n",
       "  <thead>\n",
       "    <tr style=\"text-align: right;\">\n",
       "      <th></th>\n",
       "      <th>section_name</th>\n",
       "      <th>category_name</th>\n",
       "      <th>category_tag_name</th>\n",
       "      <th>product_name</th>\n",
       "      <th>product_description</th>\n",
       "    </tr>\n",
       "  </thead>\n",
       "  <tbody>\n",
       "    <tr>\n",
       "      <th>0</th>\n",
       "      <td>Promociones</td>\n",
       "      <td>Chivitos</td>\n",
       "      <td>Canadiense al plato</td>\n",
       "      <td>Chivito canadiense al plato para 2 con gramajo</td>\n",
       "      <td>2 churrascos de lomo con jamón, muzza, panceta...</td>\n",
       "    </tr>\n",
       "    <tr>\n",
       "      <th>1</th>\n",
       "      <td>Combinados de sushi</td>\n",
       "      <td>Sushi</td>\n",
       "      <td>sushi</td>\n",
       "      <td>Combinado Magnum - 30 piezas variadas</td>\n",
       "      <td>Variedad de rolls, nigiris y sashimis.</td>\n",
       "    </tr>\n",
       "    <tr>\n",
       "      <th>2</th>\n",
       "      <td>Cucuruchos</td>\n",
       "      <td>Helados</td>\n",
       "      <td>cucurucho</td>\n",
       "      <td>Cucurucho natural</td>\n",
       "      <td>NaN</td>\n",
       "    </tr>\n",
       "    <tr>\n",
       "      <th>3</th>\n",
       "      <td>Sugerencia del día</td>\n",
       "      <td>Pescados y Mariscos</td>\n",
       "      <td>Merluza</td>\n",
       "      <td>Sugerencia - Merluza fresca con papas</td>\n",
       "      <td>NaN</td>\n",
       "    </tr>\n",
       "    <tr>\n",
       "      <th>4</th>\n",
       "      <td>Almuerzos por $99</td>\n",
       "      <td>Comida Árabe</td>\n",
       "      <td>Shawarma</td>\n",
       "      <td>Almuerzos por $99 - Shawarma Vegetariano</td>\n",
       "      <td>Precio Anterior: $200, Ahora: $99.</td>\n",
       "    </tr>\n",
       "  </tbody>\n",
       "</table>\n",
       "</div>"
      ],
      "text/plain": [
       "          section_name        category_name    category_tag_name  \\\n",
       "0          Promociones             Chivitos  Canadiense al plato   \n",
       "1  Combinados de sushi                Sushi                sushi   \n",
       "2           Cucuruchos              Helados            cucurucho   \n",
       "3   Sugerencia del día  Pescados y Mariscos              Merluza   \n",
       "4    Almuerzos por $99         Comida Árabe             Shawarma   \n",
       "\n",
       "                                     product_name  \\\n",
       "0  Chivito canadiense al plato para 2 con gramajo   \n",
       "1           Combinado Magnum - 30 piezas variadas   \n",
       "2                               Cucurucho natural   \n",
       "3           Sugerencia - Merluza fresca con papas   \n",
       "4        Almuerzos por $99 - Shawarma Vegetariano   \n",
       "\n",
       "                                 product_description  \n",
       "0  2 churrascos de lomo con jamón, muzza, panceta...  \n",
       "1             Variedad de rolls, nigiris y sashimis.  \n",
       "2                                                NaN  \n",
       "3                                                NaN  \n",
       "4                 Precio Anterior: $200, Ahora: $99.  "
      ]
     },
     "execution_count": 49,
     "metadata": {},
     "output_type": "execute_result"
    }
   ],
   "source": [
    "import pandas as pd\n",
    "samples = pd.read_csv('datasets/comida_dataset.csv')\n",
    "samples.head()"
   ]
  },
  {
   "cell_type": "markdown",
   "id": "196181a2",
   "metadata": {},
   "source": [
    "Se puede visualizar una seccion nombre, donde se encuentra una descripcion del menu, la cual no aporta demasiada informacion. Luego estan nombre y tag-nombre de categoria, los cuales se acercan mas a la descripcion del menu que la columna anterior, pero que igualmente se decide descartar. Por ultimo, se tienen nombre y descripcion de producto, las columnas que mas utilidad aportan a la tarea que se plantea, pues contienen los ingredientes empleados.\n",
    "\n",
    "Se hara uso de la ultima columna para obtener la informacion real de la composicion del producto ofrecido.\n",
    "\n",
    "Se procede rellenando el conjunto de datos para evitar valores del tipo *NaN*. "
   ]
  },
  {
   "cell_type": "code",
   "execution_count": 50,
   "id": "fe00dd16",
   "metadata": {},
   "outputs": [
    {
     "data": {
      "text/plain": [
       "(99396, 5)"
      ]
     },
     "execution_count": 50,
     "metadata": {},
     "output_type": "execute_result"
    }
   ],
   "source": [
    "samples.fillna(\"\", inplace = True)\n",
    "samples.shape "
   ]
  },
  {
   "cell_type": "markdown",
   "id": "f756a436",
   "metadata": {},
   "source": [
    "Dado que al negocio le interesa producir hamburguesas, se quiere informacion relacionada a eso, por lo que se decide filtrar en base a si se encuentra el termino o un sinonimo del mismo."
   ]
  },
  {
   "cell_type": "code",
   "execution_count": 51,
   "id": "27150ef0",
   "metadata": {},
   "outputs": [
    {
     "data": {
      "text/plain": [
       "(7173, 5)"
      ]
     },
     "execution_count": 51,
     "metadata": {},
     "output_type": "execute_result"
    }
   ],
   "source": [
    "our_target_words = '\"' + '|'.join(['hamburguesa', 'Hamburguesa', 'burger', 'Burger', 'sanguche', 'Sanguche', 'sándwich', 'Sándwich']) + '|\\+\"'\n",
    "burguer_samples = samples[samples['product_name'].str.contains(our_target_words)]\n",
    "burguer_samples.shape"
   ]
  },
  {
   "cell_type": "markdown",
   "id": "0a00b397",
   "metadata": {},
   "source": [
    "Se propone obtener una lista de tokens de la descripcion del producto, eliminando palabras de menos de 3 letras, eliminando numeros y obteniendo el stem de la palabra. De esta forma palabras como tomate y tomates se identifica como el mismo ingrediente. Luego se obtendra el grafo asociado a columna, tomando como nodos los stem de los ingredientes."
   ]
  },
  {
   "cell_type": "code",
   "execution_count": 52,
   "id": "5a416727",
   "metadata": {},
   "outputs": [
    {
     "name": "stderr",
     "output_type": "stream",
     "text": [
      "<ipython-input-52-b9705e5108e4>:26: SettingWithCopyWarning: \n",
      "A value is trying to be set on a copy of a slice from a DataFrame.\n",
      "Try using .loc[row_indexer,col_indexer] = value instead\n",
      "\n",
      "See the caveats in the documentation: https://pandas.pydata.org/pandas-docs/stable/user_guide/indexing.html#returning-a-view-versus-a-copy\n",
      "  burguer_samples['stems'] = burguer_samples.apply(lambda row: clean_stems(row['product_description']), axis=1)\n"
     ]
    },
    {
     "data": {
      "text/html": [
       "<div>\n",
       "<style scoped>\n",
       "    .dataframe tbody tr th:only-of-type {\n",
       "        vertical-align: middle;\n",
       "    }\n",
       "\n",
       "    .dataframe tbody tr th {\n",
       "        vertical-align: top;\n",
       "    }\n",
       "\n",
       "    .dataframe thead th {\n",
       "        text-align: right;\n",
       "    }\n",
       "</style>\n",
       "<table border=\"1\" class=\"dataframe\">\n",
       "  <thead>\n",
       "    <tr style=\"text-align: right;\">\n",
       "      <th></th>\n",
       "      <th>section_name</th>\n",
       "      <th>category_name</th>\n",
       "      <th>category_tag_name</th>\n",
       "      <th>product_name</th>\n",
       "      <th>product_description</th>\n",
       "      <th>stems</th>\n",
       "    </tr>\n",
       "  </thead>\n",
       "  <tbody>\n",
       "    <tr>\n",
       "      <th>33</th>\n",
       "      <td>Hamburguesas vegetarianas</td>\n",
       "      <td>Comida Vegetariana</td>\n",
       "      <td>hamburguesa vegetariana</td>\n",
       "      <td>Hamburguesa vegetariana ciser</td>\n",
       "      <td>Hamburguesa de garbanzos y vegetales, Lechuga,...</td>\n",
       "      <td>[garbanz, vegetal, lechug, tomat, ceboll, ques...</td>\n",
       "    </tr>\n",
       "    <tr>\n",
       "      <th>66</th>\n",
       "      <td>Vegetarianas burger</td>\n",
       "      <td>Comida Vegetariana</td>\n",
       "      <td>Vegetariana</td>\n",
       "      <td>Godiee burger</td>\n",
       "      <td>200 g de carne de lentejas al pan con rúcula, ...</td>\n",
       "      <td>[carn, lentej, pan, rucul, albahac, brot, soj,...</td>\n",
       "    </tr>\n",
       "    <tr>\n",
       "      <th>91</th>\n",
       "      <td>Hamburguesas caseras</td>\n",
       "      <td>Comida Vegetariana</td>\n",
       "      <td>hamburguesa vegetariana</td>\n",
       "      <td>Hamburguesa vegetariana</td>\n",
       "      <td>Doble hamburguesa de lentejas y verduras,cebol...</td>\n",
       "      <td>[dobl, lentej, verdur, ceboll, grill, lechug, ...</td>\n",
       "    </tr>\n",
       "    <tr>\n",
       "      <th>181</th>\n",
       "      <td>Hamburguesas</td>\n",
       "      <td>Comida Vegetariana</td>\n",
       "      <td>hamburguesa vegetariana</td>\n",
       "      <td>Hamburguesa vegetariana</td>\n",
       "      <td>Pan artesanal con sésamo, hamburguesa de espin...</td>\n",
       "      <td>[pan, artesanal, sesam, espinac, lechug, tomat...</td>\n",
       "    </tr>\n",
       "    <tr>\n",
       "      <th>258</th>\n",
       "      <td>Los de siempre</td>\n",
       "      <td>Comida Vegetariana</td>\n",
       "      <td>hamburguesa vegetariana</td>\n",
       "      <td>Hamburguesa Vegetariana en pan batta</td>\n",
       "      <td>Dos hamburguesas, con mayonesa, lechuga, tomat...</td>\n",
       "      <td>[dos, mayones, lechug, tomat, ceboll, acompañ,...</td>\n",
       "    </tr>\n",
       "  </tbody>\n",
       "</table>\n",
       "</div>"
      ],
      "text/plain": [
       "                  section_name       category_name        category_tag_name  \\\n",
       "33   Hamburguesas vegetarianas  Comida Vegetariana  hamburguesa vegetariana   \n",
       "66         Vegetarianas burger  Comida Vegetariana              Vegetariana   \n",
       "91        Hamburguesas caseras  Comida Vegetariana  hamburguesa vegetariana   \n",
       "181               Hamburguesas  Comida Vegetariana  hamburguesa vegetariana   \n",
       "258             Los de siempre  Comida Vegetariana  hamburguesa vegetariana   \n",
       "\n",
       "                             product_name  \\\n",
       "33          Hamburguesa vegetariana ciser   \n",
       "66                          Godiee burger   \n",
       "91                Hamburguesa vegetariana   \n",
       "181               Hamburguesa vegetariana   \n",
       "258  Hamburguesa Vegetariana en pan batta   \n",
       "\n",
       "                                   product_description  \\\n",
       "33   Hamburguesa de garbanzos y vegetales, Lechuga,...   \n",
       "66   200 g de carne de lentejas al pan con rúcula, ...   \n",
       "91   Doble hamburguesa de lentejas y verduras,cebol...   \n",
       "181  Pan artesanal con sésamo, hamburguesa de espin...   \n",
       "258  Dos hamburguesas, con mayonesa, lechuga, tomat...   \n",
       "\n",
       "                                                 stems  \n",
       "33   [garbanz, vegetal, lechug, tomat, ceboll, ques...  \n",
       "66   [carn, lentej, pan, rucul, albahac, brot, soj,...  \n",
       "91   [dobl, lentej, verdur, ceboll, grill, lechug, ...  \n",
       "181  [pan, artesanal, sesam, espinac, lechug, tomat...  \n",
       "258  [dos, mayones, lechug, tomat, ceboll, acompañ,...  "
      ]
     },
     "execution_count": 52,
     "metadata": {},
     "output_type": "execute_result"
    }
   ],
   "source": [
    "import itertools\n",
    "import networkx as nx\n",
    "import nltk\n",
    "from nltk.tokenize import word_tokenize\n",
    "from nltk.stem import SnowballStemmer\n",
    "stemmer = SnowballStemmer('spanish')\n",
    "stop_words = nltk.corpus.stopwords.words('spanish')\n",
    "\n",
    "our_targeted_stems = ['hamburgues', 'burg', 'sanguch', 'sandwich']\n",
    "\n",
    "def clean_stems(tokens):\n",
    "    stems = []\n",
    "    for token in word_tokenize(tokens):\n",
    "        if len(token)>2 and not any(i.isdigit() for i in token) and token not in stop_words:\n",
    "            stem = stemmer.stem(token)\n",
    "            if stem not in our_targeted_stems and stem not in stems: stems.append(stem)\n",
    "    return stems\n",
    "\n",
    "def stem_graph(stems):\n",
    "    G = nx.MultiGraph()\n",
    "    for (a, b) in list(itertools.combinations(stems, 2)):\n",
    "        if not (a in our_targeted_stems or b in our_targeted_stems):\n",
    "            G.add_edge(a, b) \n",
    "    return G\n",
    "\n",
    "burguer_samples['stems'] = burguer_samples.apply(lambda row: clean_stems(row['product_description']), axis=1)\n",
    "burguer_samples.head()"
   ]
  },
  {
   "cell_type": "code",
   "execution_count": 46,
   "id": "d6c4ae8d",
   "metadata": {},
   "outputs": [
    {
     "data": {
      "text/plain": [
       "33       [garbanz, vegetal, lechug, tomat, ceboll, ques...\n",
       "66       [carn, lentej, pan, rucul, albahac, brot, soj,...\n",
       "91       [dobl, lentej, verdur, ceboll, grill, lechug, ...\n",
       "181      [pan, artesanal, sesam, espinac, lechug, tomat...\n",
       "258      [dos, mayones, lechug, tomat, ceboll, acompañ,...\n",
       "                               ...                        \n",
       "97882    [medallon, carn, mayones, lechug, tomat, lomit...\n",
       "97884    [dobl, carn, caser, huev, frit, pap, jamon, le...\n",
       "97885    [pan, brioch, carn, tomat, huev, bacon, chedd,...\n",
       "97886    [dobl, chedd, ceboll, color, pancet, pan, tort...\n",
       "97888              [dos, ceboll, huev, acompañ, pap, frit]\n",
       "Name: graph, Length: 7173, dtype: object"
      ]
     },
     "execution_count": 46,
     "metadata": {},
     "output_type": "execute_result"
    }
   ],
   "source": [
    "#hacer combinaciones de 4+ ingredientes\n"
   ]
  },
  {
   "cell_type": "code",
   "execution_count": 53,
   "id": "adc25b9f",
   "metadata": {},
   "outputs": [
    {
     "name": "stdout",
     "output_type": "stream",
     "text": [
      "49\n"
     ]
    }
   ],
   "source": [
    "list_len = [len(i) for i in burguer_samples['stems']]\n",
    "print(max(list_len))"
   ]
  },
  {
   "cell_type": "code",
   "execution_count": null,
   "id": "d3dbb62c",
   "metadata": {},
   "outputs": [],
   "source": []
  },
  {
   "cell_type": "code",
   "execution_count": null,
   "id": "43a98f66",
   "metadata": {},
   "outputs": [],
   "source": []
  },
  {
   "cell_type": "code",
   "execution_count": null,
   "id": "41a62d52",
   "metadata": {},
   "outputs": [],
   "source": []
  }
 ],
 "metadata": {
  "kernelspec": {
   "display_name": "ADS",
   "language": "python",
   "name": "ads"
  },
  "language_info": {
   "codemirror_mode": {
    "name": "ipython",
    "version": 3
   },
   "file_extension": ".py",
   "mimetype": "text/x-python",
   "name": "python",
   "nbconvert_exporter": "python",
   "pygments_lexer": "ipython3",
   "version": "3.8.5"
  }
 },
 "nbformat": 4,
 "nbformat_minor": 5
}
