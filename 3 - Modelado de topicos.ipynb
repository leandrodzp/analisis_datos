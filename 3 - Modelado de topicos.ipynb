{
 "cells": [
  {
   "cell_type": "markdown",
   "id": "202cffd0-385b-47da-808c-6dea0011b996",
   "metadata": {},
   "source": [
    "## Estudio de componentes principales con LDA"
   ]
  },
  {
   "cell_type": "code",
   "execution_count": 3,
   "id": "6895002f-c6ad-4f72-add5-14aaa343a8bb",
   "metadata": {},
   "outputs": [],
   "source": [
    "import nltk\n",
    "import pandas as pd\n",
    "import numpy as np\n",
    "\n",
    "import gensim\n",
    "from gensim.models.doc2vec import Doc2Vec, TaggedDocument\n",
    "\n",
    "from gensim.corpora import Dictionary"
   ]
  },
  {
   "cell_type": "code",
   "execution_count": 2,
   "id": "1ed9c00d-9505-49b1-b6f4-2d46562b2265",
   "metadata": {
    "tags": []
   },
   "outputs": [],
   "source": [
    "model = gensim.models.Doc2Vec.load(\"doc2vec_splitted.model\")"
   ]
  },
  {
   "cell_type": "code",
   "execution_count": 36,
   "id": "b305ea4f-de86-4b4b-98cd-112733bd724b",
   "metadata": {},
   "outputs": [],
   "source": [
    "dataset = pd.read_csv('preprocessed_tweets_ww.csv', index_col=False)\n",
    "dataset.dropna(inplace=True)"
   ]
  },
  {
   "cell_type": "code",
   "execution_count": 37,
   "id": "4aa70bc8-54dc-42db-b76d-fc91086c7812",
   "metadata": {},
   "outputs": [
    {
     "data": {
      "text/html": [
       "<div>\n",
       "<style scoped>\n",
       "    .dataframe tbody tr th:only-of-type {\n",
       "        vertical-align: middle;\n",
       "    }\n",
       "\n",
       "    .dataframe tbody tr th {\n",
       "        vertical-align: top;\n",
       "    }\n",
       "\n",
       "    .dataframe thead th {\n",
       "        text-align: right;\n",
       "    }\n",
       "</style>\n",
       "<table border=\"1\" class=\"dataframe\">\n",
       "  <thead>\n",
       "    <tr style=\"text-align: right;\">\n",
       "      <th></th>\n",
       "      <th>screen_names</th>\n",
       "      <th>texts</th>\n",
       "      <th>dates</th>\n",
       "      <th>langs</th>\n",
       "    </tr>\n",
       "  </thead>\n",
       "  <tbody>\n",
       "    <tr>\n",
       "      <th>0</th>\n",
       "      <td>excessvs</td>\n",
       "      <td>vida italiana llena cliches mismo mano rozo kh...</td>\n",
       "      <td>2021-04-28 00:20:33</td>\n",
       "      <td>es</td>\n",
       "    </tr>\n",
       "    <tr>\n",
       "      <th>1</th>\n",
       "      <td>EuSiso</td>\n",
       "      <td>meses comer hamburguesa pasta cuerpo bueno chi...</td>\n",
       "      <td>2021-04-28 00:20:28</td>\n",
       "      <td>es</td>\n",
       "    </tr>\n",
       "    <tr>\n",
       "      <th>2</th>\n",
       "      <td>_Sosaluis_</td>\n",
       "      <td>ganas hamburguesa</td>\n",
       "      <td>2021-04-28 00:20:14</td>\n",
       "      <td>es</td>\n",
       "    </tr>\n",
       "    <tr>\n",
       "      <th>3</th>\n",
       "      <td>SierraTeff</td>\n",
       "      <td>milanesa hamburguesa team cafinapp</td>\n",
       "      <td>2021-04-28 00:20:06</td>\n",
       "      <td>es</td>\n",
       "    </tr>\n",
       "    <tr>\n",
       "      <th>4</th>\n",
       "      <td>DraArias</td>\n",
       "      <td>haciendo pan brioche hamburguesa saboreando</td>\n",
       "      <td>2021-04-28 00:19:48</td>\n",
       "      <td>es</td>\n",
       "    </tr>\n",
       "    <tr>\n",
       "      <th>...</th>\n",
       "      <td>...</td>\n",
       "      <td>...</td>\n",
       "      <td>...</td>\n",
       "      <td>...</td>\n",
       "    </tr>\n",
       "    <tr>\n",
       "      <th>9463</th>\n",
       "      <td>isaprzg</td>\n",
       "      <td>unas ganas asquerosas hamburguesa papas gajo n...</td>\n",
       "      <td>2021-04-25 21:58:50</td>\n",
       "      <td>es</td>\n",
       "    </tr>\n",
       "    <tr>\n",
       "      <th>9464</th>\n",
       "      <td>linternasazules</td>\n",
       "      <td>seis tarrinas helado limon galletas chocolate ...</td>\n",
       "      <td>2021-04-25 21:58:44</td>\n",
       "      <td>es</td>\n",
       "    </tr>\n",
       "    <tr>\n",
       "      <th>9465</th>\n",
       "      <td>curly_Bae_bae</td>\n",
       "      <td>copio grr usa marcar comes mayonesa dulce lech...</td>\n",
       "      <td>2021-04-25 21:58:44</td>\n",
       "      <td>es</td>\n",
       "    </tr>\n",
       "    <tr>\n",
       "      <th>9466</th>\n",
       "      <td>wafibreadbar</td>\n",
       "      <td>usa marcar comes mostaza pepinillo cilantro pi...</td>\n",
       "      <td>2021-04-25 21:58:40</td>\n",
       "      <td>es</td>\n",
       "    </tr>\n",
       "    <tr>\n",
       "      <th>9467</th>\n",
       "      <td>AnaLvsMomo</td>\n",
       "      <td>tae mayonesa miel pizza piña sushi higado hamb...</td>\n",
       "      <td>2021-04-25 21:58:33</td>\n",
       "      <td>es</td>\n",
       "    </tr>\n",
       "  </tbody>\n",
       "</table>\n",
       "<p>9465 rows × 4 columns</p>\n",
       "</div>"
      ],
      "text/plain": [
       "         screen_names                                              texts  \\\n",
       "0            excessvs  vida italiana llena cliches mismo mano rozo kh...   \n",
       "1              EuSiso  meses comer hamburguesa pasta cuerpo bueno chi...   \n",
       "2          _Sosaluis_                                  ganas hamburguesa   \n",
       "3          SierraTeff                 milanesa hamburguesa team cafinapp   \n",
       "4            DraArias        haciendo pan brioche hamburguesa saboreando   \n",
       "...               ...                                                ...   \n",
       "9463          isaprzg  unas ganas asquerosas hamburguesa papas gajo n...   \n",
       "9464  linternasazules  seis tarrinas helado limon galletas chocolate ...   \n",
       "9465    curly_Bae_bae  copio grr usa marcar comes mayonesa dulce lech...   \n",
       "9466     wafibreadbar  usa marcar comes mostaza pepinillo cilantro pi...   \n",
       "9467       AnaLvsMomo  tae mayonesa miel pizza piña sushi higado hamb...   \n",
       "\n",
       "                    dates langs  \n",
       "0     2021-04-28 00:20:33    es  \n",
       "1     2021-04-28 00:20:28    es  \n",
       "2     2021-04-28 00:20:14    es  \n",
       "3     2021-04-28 00:20:06    es  \n",
       "4     2021-04-28 00:19:48    es  \n",
       "...                   ...   ...  \n",
       "9463  2021-04-25 21:58:50    es  \n",
       "9464  2021-04-25 21:58:44    es  \n",
       "9465  2021-04-25 21:58:44    es  \n",
       "9466  2021-04-25 21:58:40    es  \n",
       "9467  2021-04-25 21:58:33    es  \n",
       "\n",
       "[9465 rows x 4 columns]"
      ]
     },
     "execution_count": 37,
     "metadata": {},
     "output_type": "execute_result"
    }
   ],
   "source": [
    "dataset"
   ]
  },
  {
   "cell_type": "code",
   "execution_count": 39,
   "id": "e4913c46-38c3-482e-bffb-da455a675e59",
   "metadata": {},
   "outputs": [],
   "source": [
    "LDA = gensim.models.ldamodel.LdaModel"
   ]
  },
  {
   "cell_type": "code",
   "execution_count": 46,
   "id": "3319d97c-a350-4830-8cbd-3d3ddbd5b3e4",
   "metadata": {},
   "outputs": [],
   "source": [
    "texts = list(dataset['texts'].apply(str.split))"
   ]
  },
  {
   "cell_type": "code",
   "execution_count": 51,
   "id": "9a208d0a-6718-4254-bd05-f8ad0dbcdffe",
   "metadata": {},
   "outputs": [],
   "source": [
    "dictionary = Dictionary(texts)\n",
    "doc_term_matrix = [dictionary.doc2bow(line) for line in texts]"
   ]
  },
  {
   "cell_type": "code",
   "execution_count": 52,
   "id": "cfced3ff-a59b-497f-bded-76b945c29406",
   "metadata": {},
   "outputs": [],
   "source": [
    "lda_model = LDA(corpus=doc_term_matrix, id2word=dictionary, num_topics=5, random_state=100,\n",
    "                chunksize=1000, passes=50,iterations=100)"
   ]
  },
  {
   "cell_type": "code",
   "execution_count": 53,
   "id": "07c259ab-961d-4e75-9723-6dddb5567f5a",
   "metadata": {},
   "outputs": [],
   "source": [
    "lda_model.save('lda_model.model')"
   ]
  },
  {
   "cell_type": "code",
   "execution_count": 54,
   "id": "90f285c1-b3d9-40ec-9e8a-1c513c243329",
   "metadata": {},
   "outputs": [
    {
     "data": {
      "text/plain": [
       "[(0,\n",
       "  '0.156*\"hamburguesa\" + 0.036*\"ganas\" + 0.022*\"comer\" + 0.018*\"papas\" + 0.012*\"q\" + 0.012*\"buena\" + 0.010*\"cheddar\" + 0.009*\"unas\" + 0.008*\"si\" + 0.008*\"necesito\"'),\n",
       " (1,\n",
       "  '0.093*\"pizza\" + 0.088*\"mostaza\" + 0.087*\"sushi\" + 0.086*\"cilantro\" + 0.086*\"piña\" + 0.085*\"pepinillo\" + 0.080*\"usa\" + 0.076*\"comes\" + 0.075*\"brocoli\" + 0.067*\"marcar\"'),\n",
       " (2,\n",
       "  '0.072*\"hamburguesa\" + 0.014*\"si\" + 0.012*\"m\" + 0.011*\"comida\" + 0.010*\"mayonesa\" + 0.010*\"queso\" + 0.008*\"miel\" + 0.007*\"papitas\" + 0.006*\"dios\" + 0.006*\"dulce\"'),\n",
       " (3,\n",
       "  '0.075*\"hamburguesa\" + 0.013*\"q\" + 0.010*\"si\" + 0.009*\"solo\" + 0.008*\"vida\" + 0.006*\"comiendo\" + 0.006*\"mas\" + 0.005*\"n\" + 0.005*\"siento\" + 0.005*\"tw\"'),\n",
       " (4,\n",
       "  '0.127*\"hamburguesa\" + 0.036*\"quiero\" + 0.010*\"si\" + 0.009*\"comi\" + 0.008*\"comer\" + 0.008*\"voy\" + 0.008*\"s\" + 0.008*\"mas\" + 0.008*\"twt\" + 0.007*\"mejor\"')]"
      ]
     },
     "execution_count": 54,
     "metadata": {},
     "output_type": "execute_result"
    }
   ],
   "source": [
    "lda_model.print_topics()"
   ]
  }
 ],
 "metadata": {
  "kernelspec": {
   "display_name": "analisis",
   "language": "python",
   "name": "analisis"
  },
  "language_info": {
   "codemirror_mode": {
    "name": "ipython",
    "version": 3
   },
   "file_extension": ".py",
   "mimetype": "text/x-python",
   "name": "python",
   "nbconvert_exporter": "python",
   "pygments_lexer": "ipython3",
   "version": "3.7.9"
  }
 },
 "nbformat": 4,
 "nbformat_minor": 5
}
