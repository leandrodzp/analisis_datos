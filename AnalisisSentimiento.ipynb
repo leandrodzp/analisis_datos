{
 "cells": [
  {
   "cell_type": "code",
   "execution_count": 65,
   "id": "41fdcc3a",
   "metadata": {},
   "outputs": [],
   "source": [
    "from keras.preprocessing.text import Tokenizer\n",
    "import unidecode\n",
    "\n",
    "import nltk\n",
    "from nltk.corpus import stopwords\n",
    "from nltk.stem import SnowballStemmer\n",
    "stop_words=set(stopwords.words('spanish'))\n",
    "stemmer = SnowballStemmer('spanish')\n",
    "\n",
    "import re, string\n",
    "url = re.compile(r'https?://[\\w./\\-?=&+]+')\n",
    "mentions = re.compile(r'((?<=\\W)|^)(@\\w+)(\\s*@\\w+)*')\n",
    "email = re.compile(r'[\\w.+-]+@([a-zA-Z0-9-]+\\.)+[a-zA-Z0-9-]+')\n",
    "punctuation = re.compile('[%s]' % re.escape(string.punctuation + '…'))\n",
    "length = re.compile(r\"(.)\\1{2,}\")\n",
    "\n",
    "\n",
    "def construir_corpus(tweets, limit=10000):\n",
    "    corpus=[]\n",
    "    i=0\n",
    "    for t in tweets:\n",
    "        if i>limit:\n",
    "            break\n",
    "        for w in clean_sentence(t):\n",
    "            stemmed = stemmer.stem(w)\n",
    "            if ok_word(w) and stemmed not in corpus:\n",
    "                corpus.append(stemmed)\n",
    "                i+=1\n",
    "    return corpus\n",
    "\n",
    "def ok_word(we):\n",
    "    # Has at least 1 letter (not alone numbers nor punctuanction symbols)\n",
    "    if re.match(r\"(?=[a-z])\", we) and we not in stop_words:\n",
    "        return True\n",
    "    return False\n",
    "\n",
    "def clean_sentence(sentence):\n",
    "    clean_sentence = []\n",
    "    for word in sentence.lower().split():\n",
    "        unaccented_word = unidecode.unidecode(word)  # sacar tildes\n",
    "        word = url.sub('url', word)                  # cambiar link por URL\n",
    "        word = mentions.sub('user', word)            # cambiar mencion por USER\n",
    "        word = email.sub('mail', word)               # cambiar mail por MAIL\n",
    "        word = punctuation.sub('', word)             # sacar signos de puntuacion (., !, :)\n",
    "        word = length.sub(r\"\\1\\1\", word)             # sacar letras repetidas 2 o mas veces\n",
    "        text = text.strip()\n",
    "\n",
    "        clean_sentence.append(word)\n",
    "    return clean_sentence"
   ]
  },
  {
   "cell_type": "code",
   "execution_count": 66,
   "id": "6fd26375",
   "metadata": {},
   "outputs": [],
   "source": [
    "import pandas as pd\n",
    "df=pd.read_csv(r'tweets_worldwide_hamburguesa.csv')\n",
    "df=df[df.langs == 'es']\n",
    "df.shape[0]\n",
    "sentences = df['texts']\n"
   ]
  },
  {
   "cell_type": "code",
   "execution_count": 69,
   "id": "1abcd2e0",
   "metadata": {},
   "outputs": [
    {
     "data": {
      "text/plain": [
       "6227"
      ]
     },
     "execution_count": 69,
     "metadata": {},
     "output_type": "execute_result"
    }
   ],
   "source": [
    "corpus = construir_corpus(sentences)\n",
    "len(corpus)"
   ]
  },
  {
   "cell_type": "code",
   "execution_count": 72,
   "id": "c080128f",
   "metadata": {},
   "outputs": [
    {
     "name": "stdout",
     "output_type": "stream",
     "text": [
      "6227\n",
      "[0. 1. 0. ... 0. 0. 0.]\n"
     ]
    }
   ],
   "source": [
    "t = Tokenizer()\n",
    "t.fit_on_texts(corpus)\n",
    "encoded_corpus=t.texts_to_matrix(corpus, mode='count')\n",
    "print(len(encoded_corpus))\n",
    "print(encoded_corpus[0])"
   ]
  },
  {
   "cell_type": "code",
   "execution_count": null,
   "id": "ee6eba42",
   "metadata": {},
   "outputs": [],
   "source": []
  }
 ],
 "metadata": {
  "kernelspec": {
   "display_name": "analisis",
   "language": "python",
   "name": "analisis"
  },
  "language_info": {
   "codemirror_mode": {
    "name": "ipython",
    "version": 3
   },
   "file_extension": ".py",
   "mimetype": "text/x-python",
   "name": "python",
   "nbconvert_exporter": "python",
   "pygments_lexer": "ipython3",
   "version": "3.7.9"
  }
 },
 "nbformat": 4,
 "nbformat_minor": 5
}
