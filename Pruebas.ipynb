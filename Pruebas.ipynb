{
 "cells": [
  {
   "cell_type": "code",
   "execution_count": 1,
   "id": "6895002f-c6ad-4f72-add5-14aaa343a8bb",
   "metadata": {},
   "outputs": [],
   "source": [
    "import pandas as pd"
   ]
  },
  {
   "cell_type": "code",
   "execution_count": 36,
   "id": "5cf76361-e7c8-4144-a446-fe0d71d64ed0",
   "metadata": {},
   "outputs": [
    {
     "data": {
      "text/html": [
       "<div>\n",
       "<style scoped>\n",
       "    .dataframe tbody tr th:only-of-type {\n",
       "        vertical-align: middle;\n",
       "    }\n",
       "\n",
       "    .dataframe tbody tr th {\n",
       "        vertical-align: top;\n",
       "    }\n",
       "\n",
       "    .dataframe thead th {\n",
       "        text-align: right;\n",
       "    }\n",
       "</style>\n",
       "<table border=\"1\" class=\"dataframe\">\n",
       "  <thead>\n",
       "    <tr style=\"text-align: right;\">\n",
       "      <th></th>\n",
       "      <th>section_name</th>\n",
       "      <th>category_name</th>\n",
       "      <th>category_tag_name</th>\n",
       "      <th>product_name</th>\n",
       "      <th>product_description</th>\n",
       "    </tr>\n",
       "  </thead>\n",
       "  <tbody>\n",
       "    <tr>\n",
       "      <th>0</th>\n",
       "      <td>Promociones</td>\n",
       "      <td>Chivitos</td>\n",
       "      <td>Canadiense al plato</td>\n",
       "      <td>Chivito canadiense al plato para 2 con gramajo</td>\n",
       "      <td>2 churrascos de lomo con jamón, muzza, panceta...</td>\n",
       "    </tr>\n",
       "    <tr>\n",
       "      <th>1</th>\n",
       "      <td>Combinados de sushi</td>\n",
       "      <td>Sushi</td>\n",
       "      <td>sushi</td>\n",
       "      <td>Combinado Magnum - 30 piezas variadas</td>\n",
       "      <td>Variedad de rolls, nigiris y sashimis.</td>\n",
       "    </tr>\n",
       "    <tr>\n",
       "      <th>2</th>\n",
       "      <td>Cucuruchos</td>\n",
       "      <td>Helados</td>\n",
       "      <td>cucurucho</td>\n",
       "      <td>Cucurucho natural</td>\n",
       "      <td>NaN</td>\n",
       "    </tr>\n",
       "    <tr>\n",
       "      <th>3</th>\n",
       "      <td>Sugerencia del día</td>\n",
       "      <td>Pescados y Mariscos</td>\n",
       "      <td>Merluza</td>\n",
       "      <td>Sugerencia - Merluza fresca con papas</td>\n",
       "      <td>NaN</td>\n",
       "    </tr>\n",
       "    <tr>\n",
       "      <th>4</th>\n",
       "      <td>Almuerzos por $99</td>\n",
       "      <td>Comida Árabe</td>\n",
       "      <td>Shawarma</td>\n",
       "      <td>Almuerzos por $99 - Shawarma Vegetariano</td>\n",
       "      <td>Precio Anterior: $200, Ahora: $99.</td>\n",
       "    </tr>\n",
       "    <tr>\n",
       "      <th>...</th>\n",
       "      <td>...</td>\n",
       "      <td>...</td>\n",
       "      <td>...</td>\n",
       "      <td>...</td>\n",
       "      <td>...</td>\n",
       "    </tr>\n",
       "    <tr>\n",
       "      <th>99391</th>\n",
       "      <td>Entremesas</td>\n",
       "      <td>Papas Fritas</td>\n",
       "      <td>papas fritas</td>\n",
       "      <td>Porción papas fritas</td>\n",
       "      <td>NaN</td>\n",
       "    </tr>\n",
       "    <tr>\n",
       "      <th>99392</th>\n",
       "      <td>Para picar</td>\n",
       "      <td>Papas Fritas</td>\n",
       "      <td>papas fritas</td>\n",
       "      <td>Papas fritas (porción)</td>\n",
       "      <td>NaN</td>\n",
       "    </tr>\n",
       "    <tr>\n",
       "      <th>99393</th>\n",
       "      <td>Papas fritas</td>\n",
       "      <td>Papas Fritas</td>\n",
       "      <td>papas fritas</td>\n",
       "      <td>Papas de la casa</td>\n",
       "      <td>Panceta, queso y ciboulette.</td>\n",
       "    </tr>\n",
       "    <tr>\n",
       "      <th>99394</th>\n",
       "      <td>Papas fritas</td>\n",
       "      <td>Papas Fritas</td>\n",
       "      <td>papas fritas</td>\n",
       "      <td>Porción de papas</td>\n",
       "      <td>NaN</td>\n",
       "    </tr>\n",
       "    <tr>\n",
       "      <th>99395</th>\n",
       "      <td>Platos para todos los días</td>\n",
       "      <td>Papas Fritas</td>\n",
       "      <td>papas fritas</td>\n",
       "      <td>Papas fritas</td>\n",
       "      <td>NaN</td>\n",
       "    </tr>\n",
       "  </tbody>\n",
       "</table>\n",
       "<p>99396 rows × 5 columns</p>\n",
       "</div>"
      ],
      "text/plain": [
       "                     section_name        category_name    category_tag_name  \\\n",
       "0                     Promociones             Chivitos  Canadiense al plato   \n",
       "1             Combinados de sushi                Sushi                sushi   \n",
       "2                      Cucuruchos              Helados            cucurucho   \n",
       "3              Sugerencia del día  Pescados y Mariscos              Merluza   \n",
       "4               Almuerzos por $99         Comida Árabe             Shawarma   \n",
       "...                           ...                  ...                  ...   \n",
       "99391                  Entremesas         Papas Fritas         papas fritas   \n",
       "99392                  Para picar         Papas Fritas         papas fritas   \n",
       "99393                Papas fritas         Papas Fritas         papas fritas   \n",
       "99394                Papas fritas         Papas Fritas         papas fritas   \n",
       "99395  Platos para todos los días         Papas Fritas         papas fritas   \n",
       "\n",
       "                                         product_name  \\\n",
       "0      Chivito canadiense al plato para 2 con gramajo   \n",
       "1               Combinado Magnum - 30 piezas variadas   \n",
       "2                                   Cucurucho natural   \n",
       "3               Sugerencia - Merluza fresca con papas   \n",
       "4            Almuerzos por $99 - Shawarma Vegetariano   \n",
       "...                                               ...   \n",
       "99391                            Porción papas fritas   \n",
       "99392                          Papas fritas (porción)   \n",
       "99393                                Papas de la casa   \n",
       "99394                                Porción de papas   \n",
       "99395                                    Papas fritas   \n",
       "\n",
       "                                     product_description  \n",
       "0      2 churrascos de lomo con jamón, muzza, panceta...  \n",
       "1                 Variedad de rolls, nigiris y sashimis.  \n",
       "2                                                    NaN  \n",
       "3                                                    NaN  \n",
       "4                     Precio Anterior: $200, Ahora: $99.  \n",
       "...                                                  ...  \n",
       "99391                                                NaN  \n",
       "99392                                                NaN  \n",
       "99393                       Panceta, queso y ciboulette.  \n",
       "99394                                                NaN  \n",
       "99395                                                NaN  \n",
       "\n",
       "[99396 rows x 5 columns]"
      ]
     },
     "execution_count": 36,
     "metadata": {},
     "output_type": "execute_result"
    }
   ],
   "source": [
    "dataset = pd.read_csv('datasets/dataset.csv', index_col=False)\n",
    "dataset"
   ]
  },
  {
   "cell_type": "code",
   "execution_count": 37,
   "id": "771136cc-0325-49a4-8137-59f2770b3afd",
   "metadata": {},
   "outputs": [
    {
     "data": {
      "text/plain": [
       "section_name            3464\n",
       "category_name             46\n",
       "category_tag_name        382\n",
       "product_name           54336\n",
       "product_description    27522\n",
       "dtype: int64"
      ]
     },
     "execution_count": 37,
     "metadata": {},
     "output_type": "execute_result"
    }
   ],
   "source": [
    "dataset.nunique()"
   ]
  },
  {
   "cell_type": "code",
   "execution_count": 39,
   "id": "2f1df87b-8a8a-49cd-b6b9-2a6c09bedf36",
   "metadata": {},
   "outputs": [
    {
     "ename": "AttributeError",
     "evalue": "'DataFrame' object has no attribute 'uniques'",
     "output_type": "error",
     "traceback": [
      "\u001b[0;31m---------------------------------------------------------------------------\u001b[0m",
      "\u001b[0;31mAttributeError\u001b[0m                            Traceback (most recent call last)",
      "\u001b[0;32m<ipython-input-39-192fae7eff75>\u001b[0m in \u001b[0;36m<module>\u001b[0;34m\u001b[0m\n\u001b[0;32m----> 1\u001b[0;31m \u001b[0mdataset\u001b[0m\u001b[0;34m.\u001b[0m\u001b[0muniques\u001b[0m\u001b[0;34m(\u001b[0m\u001b[0;34m)\u001b[0m\u001b[0;34m\u001b[0m\u001b[0;34m\u001b[0m\u001b[0m\n\u001b[0m",
      "\u001b[0;32m~/Documents/facultad/analisis_datos/analisis/lib/python3.7/site-packages/pandas/core/generic.py\u001b[0m in \u001b[0;36m__getattr__\u001b[0;34m(self, name)\u001b[0m\n\u001b[1;32m   5463\u001b[0m             \u001b[0;32mif\u001b[0m \u001b[0mself\u001b[0m\u001b[0;34m.\u001b[0m\u001b[0m_info_axis\u001b[0m\u001b[0;34m.\u001b[0m\u001b[0m_can_hold_identifiers_and_holds_name\u001b[0m\u001b[0;34m(\u001b[0m\u001b[0mname\u001b[0m\u001b[0;34m)\u001b[0m\u001b[0;34m:\u001b[0m\u001b[0;34m\u001b[0m\u001b[0;34m\u001b[0m\u001b[0m\n\u001b[1;32m   5464\u001b[0m                 \u001b[0;32mreturn\u001b[0m \u001b[0mself\u001b[0m\u001b[0;34m[\u001b[0m\u001b[0mname\u001b[0m\u001b[0;34m]\u001b[0m\u001b[0;34m\u001b[0m\u001b[0;34m\u001b[0m\u001b[0m\n\u001b[0;32m-> 5465\u001b[0;31m             \u001b[0;32mreturn\u001b[0m \u001b[0mobject\u001b[0m\u001b[0;34m.\u001b[0m\u001b[0m__getattribute__\u001b[0m\u001b[0;34m(\u001b[0m\u001b[0mself\u001b[0m\u001b[0;34m,\u001b[0m \u001b[0mname\u001b[0m\u001b[0;34m)\u001b[0m\u001b[0;34m\u001b[0m\u001b[0;34m\u001b[0m\u001b[0m\n\u001b[0m\u001b[1;32m   5466\u001b[0m \u001b[0;34m\u001b[0m\u001b[0m\n\u001b[1;32m   5467\u001b[0m     \u001b[0;32mdef\u001b[0m \u001b[0m__setattr__\u001b[0m\u001b[0;34m(\u001b[0m\u001b[0mself\u001b[0m\u001b[0;34m,\u001b[0m \u001b[0mname\u001b[0m\u001b[0;34m:\u001b[0m \u001b[0mstr\u001b[0m\u001b[0;34m,\u001b[0m \u001b[0mvalue\u001b[0m\u001b[0;34m)\u001b[0m \u001b[0;34m->\u001b[0m \u001b[0;32mNone\u001b[0m\u001b[0;34m:\u001b[0m\u001b[0;34m\u001b[0m\u001b[0;34m\u001b[0m\u001b[0m\n",
      "\u001b[0;31mAttributeError\u001b[0m: 'DataFrame' object has no attribute 'uniques'"
     ]
    }
   ],
   "source": []
  },
  {
   "cell_type": "code",
   "execution_count": 28,
   "id": "7b23245b-22a2-40f1-b80f-e7716c4b2285",
   "metadata": {},
   "outputs": [],
   "source": []
  },
  {
   "cell_type": "code",
   "execution_count": null,
   "id": "c2a05438-994a-462e-bf3f-2e5418c8be17",
   "metadata": {},
   "outputs": [],
   "source": []
  }
 ],
 "metadata": {
  "kernelspec": {
   "display_name": "analisis",
   "language": "python",
   "name": "analisis"
  },
  "language_info": {
   "codemirror_mode": {
    "name": "ipython",
    "version": 3
   },
   "file_extension": ".py",
   "mimetype": "text/x-python",
   "name": "python",
   "nbconvert_exporter": "python",
   "pygments_lexer": "ipython3",
   "version": "3.7.9"
  }
 },
 "nbformat": 4,
 "nbformat_minor": 5
}
