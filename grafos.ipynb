{
 "cells": [
  {
   "cell_type": "code",
   "execution_count": 13,
   "id": "6895002f-c6ad-4f72-add5-14aaa343a8bb",
   "metadata": {},
   "outputs": [],
   "source": [
    "import pandas as pd\n",
    "import numpy as np\n",
    "\n",
    "import nltk\n",
    "from nltk.stem import SnowballStemmer\n",
    "stemmer = SnowballStemmer('spanish')\n",
    "\n",
    "from matplotlib import pyplot\n",
    "\n",
    "import networkx as nx\n",
    "\n",
    "from utils import description_to_words\n",
    "\n",
    "import itertools"
   ]
  },
  {
   "cell_type": "markdown",
   "id": "78703424-cf86-48e8-ae8c-c49fab29891d",
   "metadata": {},
   "source": [
    "#### Cargamos y visualizamos el dataset"
   ]
  },
  {
   "cell_type": "code",
   "execution_count": 2,
   "id": "5cf76361-e7c8-4144-a446-fe0d71d64ed0",
   "metadata": {},
   "outputs": [
    {
     "data": {
      "text/html": [
       "<div>\n",
       "<style scoped>\n",
       "    .dataframe tbody tr th:only-of-type {\n",
       "        vertical-align: middle;\n",
       "    }\n",
       "\n",
       "    .dataframe tbody tr th {\n",
       "        vertical-align: top;\n",
       "    }\n",
       "\n",
       "    .dataframe thead th {\n",
       "        text-align: right;\n",
       "    }\n",
       "</style>\n",
       "<table border=\"1\" class=\"dataframe\">\n",
       "  <thead>\n",
       "    <tr style=\"text-align: right;\">\n",
       "      <th></th>\n",
       "      <th>section_name</th>\n",
       "      <th>category_name</th>\n",
       "      <th>category_tag_name</th>\n",
       "      <th>product_name</th>\n",
       "      <th>product_description</th>\n",
       "    </tr>\n",
       "  </thead>\n",
       "  <tbody>\n",
       "    <tr>\n",
       "      <th>0</th>\n",
       "      <td>Promociones</td>\n",
       "      <td>Chivitos</td>\n",
       "      <td>Canadiense al plato</td>\n",
       "      <td>Chivito canadiense al plato para 2 con gramajo</td>\n",
       "      <td>2 churrascos de lomo con jamón, muzza, panceta...</td>\n",
       "    </tr>\n",
       "    <tr>\n",
       "      <th>1</th>\n",
       "      <td>Combinados de sushi</td>\n",
       "      <td>Sushi</td>\n",
       "      <td>sushi</td>\n",
       "      <td>Combinado Magnum - 30 piezas variadas</td>\n",
       "      <td>Variedad de rolls, nigiris y sashimis.</td>\n",
       "    </tr>\n",
       "    <tr>\n",
       "      <th>2</th>\n",
       "      <td>Cucuruchos</td>\n",
       "      <td>Helados</td>\n",
       "      <td>cucurucho</td>\n",
       "      <td>Cucurucho natural</td>\n",
       "      <td>NaN</td>\n",
       "    </tr>\n",
       "    <tr>\n",
       "      <th>3</th>\n",
       "      <td>Sugerencia del día</td>\n",
       "      <td>Pescados y Mariscos</td>\n",
       "      <td>Merluza</td>\n",
       "      <td>Sugerencia - Merluza fresca con papas</td>\n",
       "      <td>NaN</td>\n",
       "    </tr>\n",
       "    <tr>\n",
       "      <th>4</th>\n",
       "      <td>Almuerzos por $99</td>\n",
       "      <td>Comida Árabe</td>\n",
       "      <td>Shawarma</td>\n",
       "      <td>Almuerzos por $99 - Shawarma Vegetariano</td>\n",
       "      <td>Precio Anterior: $200, Ahora: $99.</td>\n",
       "    </tr>\n",
       "  </tbody>\n",
       "</table>\n",
       "</div>"
      ],
      "text/plain": [
       "          section_name        category_name    category_tag_name  \\\n",
       "0          Promociones             Chivitos  Canadiense al plato   \n",
       "1  Combinados de sushi                Sushi                sushi   \n",
       "2           Cucuruchos              Helados            cucurucho   \n",
       "3   Sugerencia del día  Pescados y Mariscos              Merluza   \n",
       "4    Almuerzos por $99         Comida Árabe             Shawarma   \n",
       "\n",
       "                                     product_name  \\\n",
       "0  Chivito canadiense al plato para 2 con gramajo   \n",
       "1           Combinado Magnum - 30 piezas variadas   \n",
       "2                               Cucurucho natural   \n",
       "3           Sugerencia - Merluza fresca con papas   \n",
       "4        Almuerzos por $99 - Shawarma Vegetariano   \n",
       "\n",
       "                                 product_description  \n",
       "0  2 churrascos de lomo con jamón, muzza, panceta...  \n",
       "1             Variedad de rolls, nigiris y sashimis.  \n",
       "2                                                NaN  \n",
       "3                                                NaN  \n",
       "4                 Precio Anterior: $200, Ahora: $99.  "
      ]
     },
     "execution_count": 2,
     "metadata": {},
     "output_type": "execute_result"
    }
   ],
   "source": [
    "samples = pd.read_csv('datasets/comida_dataset.csv')\n",
    "samples.head()"
   ]
  },
  {
   "cell_type": "code",
   "execution_count": 3,
   "id": "74d33832-f24d-4536-bd32-063c0f1c478a",
   "metadata": {},
   "outputs": [
    {
     "data": {
      "text/plain": [
       "(99396, 5)"
      ]
     },
     "execution_count": 3,
     "metadata": {},
     "output_type": "execute_result"
    }
   ],
   "source": [
    "samples.shape "
   ]
  },
  {
   "cell_type": "markdown",
   "id": "4585ebe5-3a3a-4eff-b9c8-38318372521d",
   "metadata": {},
   "source": [
    "#### Rellenamos blancos con caracter nulo"
   ]
  },
  {
   "cell_type": "code",
   "execution_count": 4,
   "id": "89f2b750-5f64-4089-b74a-2394e15a1985",
   "metadata": {},
   "outputs": [],
   "source": [
    "samples[\"section_name\"].fillna(\"\", inplace = True)\n",
    "samples[\"category_tag_name\"].fillna(\"\", inplace = True)\n",
    "samples[\"product_name\"].fillna(\"\", inplace = True) \n",
    "samples[\"product_description\"].fillna(\"\", inplace = True)"
   ]
  },
  {
   "cell_type": "markdown",
   "id": "f7c04b8f-fa65-42a7-9d06-e03bd54d494b",
   "metadata": {},
   "source": [
    "#### Nos quedamos con los que se relacionan a nuestro producto:"
   ]
  },
  {
   "cell_type": "code",
   "execution_count": 5,
   "id": "91b9fc60-eb2f-4df9-a4e9-151c8f8ac85b",
   "metadata": {},
   "outputs": [],
   "source": [
    "our_target_words = '\"' + '|'.join(['hamburguesa', 'Hamburguesa', 'burger', 'Burger', 'sanguche', 'Sanguche', 'sándwich', 'Sándwich']) + '|\\+\"'\n",
    "indexNames = samples[samples[\"product_name\"].str.contains(our_target_words)].index"
   ]
  },
  {
   "cell_type": "code",
   "execution_count": 6,
   "id": "e5d42e91-ef86-415f-b0f2-26b964717f00",
   "metadata": {},
   "outputs": [
    {
     "data": {
      "text/plain": [
       "7173"
      ]
     },
     "execution_count": 6,
     "metadata": {},
     "output_type": "execute_result"
    }
   ],
   "source": [
    "len(indexNames)"
   ]
  },
  {
   "cell_type": "code",
   "execution_count": 7,
   "id": "587f5d3a-c72d-497f-8ab8-48369a4c1d7d",
   "metadata": {},
   "outputs": [
    {
     "data": {
      "text/html": [
       "<div>\n",
       "<style scoped>\n",
       "    .dataframe tbody tr th:only-of-type {\n",
       "        vertical-align: middle;\n",
       "    }\n",
       "\n",
       "    .dataframe tbody tr th {\n",
       "        vertical-align: top;\n",
       "    }\n",
       "\n",
       "    .dataframe thead th {\n",
       "        text-align: right;\n",
       "    }\n",
       "</style>\n",
       "<table border=\"1\" class=\"dataframe\">\n",
       "  <thead>\n",
       "    <tr style=\"text-align: right;\">\n",
       "      <th></th>\n",
       "      <th>section_name</th>\n",
       "      <th>category_name</th>\n",
       "      <th>category_tag_name</th>\n",
       "      <th>product_name</th>\n",
       "      <th>product_description</th>\n",
       "    </tr>\n",
       "  </thead>\n",
       "  <tbody>\n",
       "    <tr>\n",
       "      <th>33</th>\n",
       "      <td>Hamburguesas vegetarianas</td>\n",
       "      <td>Comida Vegetariana</td>\n",
       "      <td>hamburguesa vegetariana</td>\n",
       "      <td>Hamburguesa vegetariana ciser</td>\n",
       "      <td>Hamburguesa de garbanzos y vegetales, Lechuga,...</td>\n",
       "    </tr>\n",
       "    <tr>\n",
       "      <th>66</th>\n",
       "      <td>Vegetarianas burger</td>\n",
       "      <td>Comida Vegetariana</td>\n",
       "      <td>Vegetariana</td>\n",
       "      <td>Godiee burger</td>\n",
       "      <td>200 g de carne de lentejas al pan con rúcula, ...</td>\n",
       "    </tr>\n",
       "    <tr>\n",
       "      <th>91</th>\n",
       "      <td>Hamburguesas caseras</td>\n",
       "      <td>Comida Vegetariana</td>\n",
       "      <td>hamburguesa vegetariana</td>\n",
       "      <td>Hamburguesa vegetariana</td>\n",
       "      <td>Doble hamburguesa de lentejas y verduras,cebol...</td>\n",
       "    </tr>\n",
       "    <tr>\n",
       "      <th>181</th>\n",
       "      <td>Hamburguesas</td>\n",
       "      <td>Comida Vegetariana</td>\n",
       "      <td>hamburguesa vegetariana</td>\n",
       "      <td>Hamburguesa vegetariana</td>\n",
       "      <td>Pan artesanal con sésamo, hamburguesa de espin...</td>\n",
       "    </tr>\n",
       "    <tr>\n",
       "      <th>258</th>\n",
       "      <td>Los de siempre</td>\n",
       "      <td>Comida Vegetariana</td>\n",
       "      <td>hamburguesa vegetariana</td>\n",
       "      <td>Hamburguesa Vegetariana en pan batta</td>\n",
       "      <td>Dos hamburguesas, con mayonesa, lechuga, tomat...</td>\n",
       "    </tr>\n",
       "  </tbody>\n",
       "</table>\n",
       "</div>"
      ],
      "text/plain": [
       "                  section_name       category_name        category_tag_name  \\\n",
       "33   Hamburguesas vegetarianas  Comida Vegetariana  hamburguesa vegetariana   \n",
       "66         Vegetarianas burger  Comida Vegetariana              Vegetariana   \n",
       "91        Hamburguesas caseras  Comida Vegetariana  hamburguesa vegetariana   \n",
       "181               Hamburguesas  Comida Vegetariana  hamburguesa vegetariana   \n",
       "258             Los de siempre  Comida Vegetariana  hamburguesa vegetariana   \n",
       "\n",
       "                             product_name  \\\n",
       "33          Hamburguesa vegetariana ciser   \n",
       "66                          Godiee burger   \n",
       "91                Hamburguesa vegetariana   \n",
       "181               Hamburguesa vegetariana   \n",
       "258  Hamburguesa Vegetariana en pan batta   \n",
       "\n",
       "                                   product_description  \n",
       "33   Hamburguesa de garbanzos y vegetales, Lechuga,...  \n",
       "66   200 g de carne de lentejas al pan con rúcula, ...  \n",
       "91   Doble hamburguesa de lentejas y verduras,cebol...  \n",
       "181  Pan artesanal con sésamo, hamburguesa de espin...  \n",
       "258  Dos hamburguesas, con mayonesa, lechuga, tomat...  "
      ]
     },
     "execution_count": 7,
     "metadata": {},
     "output_type": "execute_result"
    }
   ],
   "source": [
    "samples = samples.iloc[indexNames]\n",
    "samples.head()"
   ]
  },
  {
   "cell_type": "markdown",
   "id": "3817cc35-1d19-4384-89e8-0637d47ec030",
   "metadata": {},
   "source": [
    "### Preprocesamiento"
   ]
  },
  {
   "cell_type": "markdown",
   "id": "414cd003-b9c4-43c9-889f-6648fa5bc203",
   "metadata": {},
   "source": [
    "#### Generamos una nueva columna con la información contenido por el nombre del producto y su descripción"
   ]
  },
  {
   "cell_type": "code",
   "execution_count": 8,
   "id": "0d54a31f-83e4-41a5-b668-8d193fe5f13a",
   "metadata": {},
   "outputs": [
    {
     "data": {
      "text/html": [
       "<div>\n",
       "<style scoped>\n",
       "    .dataframe tbody tr th:only-of-type {\n",
       "        vertical-align: middle;\n",
       "    }\n",
       "\n",
       "    .dataframe tbody tr th {\n",
       "        vertical-align: top;\n",
       "    }\n",
       "\n",
       "    .dataframe thead th {\n",
       "        text-align: right;\n",
       "    }\n",
       "</style>\n",
       "<table border=\"1\" class=\"dataframe\">\n",
       "  <thead>\n",
       "    <tr style=\"text-align: right;\">\n",
       "      <th></th>\n",
       "      <th>section_name</th>\n",
       "      <th>category_name</th>\n",
       "      <th>category_tag_name</th>\n",
       "      <th>product_name</th>\n",
       "      <th>product_description</th>\n",
       "      <th>description</th>\n",
       "    </tr>\n",
       "  </thead>\n",
       "  <tbody>\n",
       "    <tr>\n",
       "      <th>33</th>\n",
       "      <td>Hamburguesas vegetarianas</td>\n",
       "      <td>Comida Vegetariana</td>\n",
       "      <td>hamburguesa vegetariana</td>\n",
       "      <td>Hamburguesa vegetariana ciser</td>\n",
       "      <td>Hamburguesa de garbanzos y vegetales, Lechuga,...</td>\n",
       "      <td>Hamburguesa vegetariana ciser Hamburguesa de g...</td>\n",
       "    </tr>\n",
       "    <tr>\n",
       "      <th>66</th>\n",
       "      <td>Vegetarianas burger</td>\n",
       "      <td>Comida Vegetariana</td>\n",
       "      <td>Vegetariana</td>\n",
       "      <td>Godiee burger</td>\n",
       "      <td>200 g de carne de lentejas al pan con rúcula, ...</td>\n",
       "      <td>Godiee burger 200 g de carne de lentejas al pa...</td>\n",
       "    </tr>\n",
       "    <tr>\n",
       "      <th>91</th>\n",
       "      <td>Hamburguesas caseras</td>\n",
       "      <td>Comida Vegetariana</td>\n",
       "      <td>hamburguesa vegetariana</td>\n",
       "      <td>Hamburguesa vegetariana</td>\n",
       "      <td>Doble hamburguesa de lentejas y verduras,cebol...</td>\n",
       "      <td>Hamburguesa vegetariana Doble hamburguesa de l...</td>\n",
       "    </tr>\n",
       "    <tr>\n",
       "      <th>181</th>\n",
       "      <td>Hamburguesas</td>\n",
       "      <td>Comida Vegetariana</td>\n",
       "      <td>hamburguesa vegetariana</td>\n",
       "      <td>Hamburguesa vegetariana</td>\n",
       "      <td>Pan artesanal con sésamo, hamburguesa de espin...</td>\n",
       "      <td>Hamburguesa vegetariana Pan artesanal con sésa...</td>\n",
       "    </tr>\n",
       "    <tr>\n",
       "      <th>258</th>\n",
       "      <td>Los de siempre</td>\n",
       "      <td>Comida Vegetariana</td>\n",
       "      <td>hamburguesa vegetariana</td>\n",
       "      <td>Hamburguesa Vegetariana en pan batta</td>\n",
       "      <td>Dos hamburguesas, con mayonesa, lechuga, tomat...</td>\n",
       "      <td>Hamburguesa Vegetariana en pan batta Dos hambu...</td>\n",
       "    </tr>\n",
       "    <tr>\n",
       "      <th>...</th>\n",
       "      <td>...</td>\n",
       "      <td>...</td>\n",
       "      <td>...</td>\n",
       "      <td>...</td>\n",
       "      <td>...</td>\n",
       "      <td>...</td>\n",
       "    </tr>\n",
       "    <tr>\n",
       "      <th>97882</th>\n",
       "      <td>Nuestras hamburguesas caseras (300 g)</td>\n",
       "      <td>Hamburguesas</td>\n",
       "      <td>Hamburguesa</td>\n",
       "      <td>Jesse Pinkman Burger</td>\n",
       "      <td>Medallón de 300 g de carne, mayonesa, lechuga,...</td>\n",
       "      <td>Jesse Pinkman Burger Medallón de 300 g de carn...</td>\n",
       "    </tr>\n",
       "    <tr>\n",
       "      <th>97884</th>\n",
       "      <td>Hamburguesas</td>\n",
       "      <td>Hamburguesas</td>\n",
       "      <td>Hamburguesa</td>\n",
       "      <td>Hamburguesa doble</td>\n",
       "      <td>Doble carne casera huevo frito papá fritas jam...</td>\n",
       "      <td>Hamburguesa doble Doble carne casera huevo fri...</td>\n",
       "    </tr>\n",
       "    <tr>\n",
       "      <th>97885</th>\n",
       "      <td>Hamburguesas</td>\n",
       "      <td>Hamburguesas</td>\n",
       "      <td>Hamburguesa</td>\n",
       "      <td>Burger bacon</td>\n",
       "      <td>Pan brioche, 180 gr de carne, tomate, huevo, b...</td>\n",
       "      <td>Burger bacon Pan brioche, 180 gr de carne, tom...</td>\n",
       "    </tr>\n",
       "    <tr>\n",
       "      <th>97886</th>\n",
       "      <td>Hamburguesas</td>\n",
       "      <td>Hamburguesas</td>\n",
       "      <td>Hamburguesa</td>\n",
       "      <td>Hamburguesa king size</td>\n",
       "      <td>Doble burger, doble cheddar, cebolla colorada ...</td>\n",
       "      <td>Hamburguesa king size Doble burger, doble ched...</td>\n",
       "    </tr>\n",
       "    <tr>\n",
       "      <th>97888</th>\n",
       "      <td>Hamburguesas</td>\n",
       "      <td>Hamburguesas</td>\n",
       "      <td>Hamburguesa</td>\n",
       "      <td>Hamburguesa al plato</td>\n",
       "      <td>Dos hamburguesas con cebolla y huevo, acompaña...</td>\n",
       "      <td>Hamburguesa al plato Dos hamburguesas con cebo...</td>\n",
       "    </tr>\n",
       "  </tbody>\n",
       "</table>\n",
       "<p>7173 rows × 6 columns</p>\n",
       "</div>"
      ],
      "text/plain": [
       "                                section_name       category_name  \\\n",
       "33                 Hamburguesas vegetarianas  Comida Vegetariana   \n",
       "66                       Vegetarianas burger  Comida Vegetariana   \n",
       "91                      Hamburguesas caseras  Comida Vegetariana   \n",
       "181                             Hamburguesas  Comida Vegetariana   \n",
       "258                           Los de siempre  Comida Vegetariana   \n",
       "...                                      ...                 ...   \n",
       "97882  Nuestras hamburguesas caseras (300 g)        Hamburguesas   \n",
       "97884                           Hamburguesas        Hamburguesas   \n",
       "97885                           Hamburguesas        Hamburguesas   \n",
       "97886                           Hamburguesas        Hamburguesas   \n",
       "97888                           Hamburguesas        Hamburguesas   \n",
       "\n",
       "             category_tag_name                          product_name  \\\n",
       "33     hamburguesa vegetariana         Hamburguesa vegetariana ciser   \n",
       "66                 Vegetariana                         Godiee burger   \n",
       "91     hamburguesa vegetariana               Hamburguesa vegetariana   \n",
       "181    hamburguesa vegetariana               Hamburguesa vegetariana   \n",
       "258    hamburguesa vegetariana  Hamburguesa Vegetariana en pan batta   \n",
       "...                        ...                                   ...   \n",
       "97882              Hamburguesa                  Jesse Pinkman Burger   \n",
       "97884              Hamburguesa                     Hamburguesa doble   \n",
       "97885              Hamburguesa                          Burger bacon   \n",
       "97886              Hamburguesa                 Hamburguesa king size   \n",
       "97888              Hamburguesa                  Hamburguesa al plato   \n",
       "\n",
       "                                     product_description  \\\n",
       "33     Hamburguesa de garbanzos y vegetales, Lechuga,...   \n",
       "66     200 g de carne de lentejas al pan con rúcula, ...   \n",
       "91     Doble hamburguesa de lentejas y verduras,cebol...   \n",
       "181    Pan artesanal con sésamo, hamburguesa de espin...   \n",
       "258    Dos hamburguesas, con mayonesa, lechuga, tomat...   \n",
       "...                                                  ...   \n",
       "97882  Medallón de 300 g de carne, mayonesa, lechuga,...   \n",
       "97884  Doble carne casera huevo frito papá fritas jam...   \n",
       "97885  Pan brioche, 180 gr de carne, tomate, huevo, b...   \n",
       "97886  Doble burger, doble cheddar, cebolla colorada ...   \n",
       "97888  Dos hamburguesas con cebolla y huevo, acompaña...   \n",
       "\n",
       "                                             description  \n",
       "33     Hamburguesa vegetariana ciser Hamburguesa de g...  \n",
       "66     Godiee burger 200 g de carne de lentejas al pa...  \n",
       "91     Hamburguesa vegetariana Doble hamburguesa de l...  \n",
       "181    Hamburguesa vegetariana Pan artesanal con sésa...  \n",
       "258    Hamburguesa Vegetariana en pan batta Dos hambu...  \n",
       "...                                                  ...  \n",
       "97882  Jesse Pinkman Burger Medallón de 300 g de carn...  \n",
       "97884  Hamburguesa doble Doble carne casera huevo fri...  \n",
       "97885  Burger bacon Pan brioche, 180 gr de carne, tom...  \n",
       "97886  Hamburguesa king size Doble burger, doble ched...  \n",
       "97888  Hamburguesa al plato Dos hamburguesas con cebo...  \n",
       "\n",
       "[7173 rows x 6 columns]"
      ]
     },
     "execution_count": 8,
     "metadata": {},
     "output_type": "execute_result"
    }
   ],
   "source": [
    "samples[\"description\"] = samples[\"product_name\"] + ' ' + samples[\"product_description\"]\n",
    "samples"
   ]
  },
  {
   "cell_type": "markdown",
   "id": "723b56af-b227-4a61-ae62-7e6b73e933d1",
   "metadata": {},
   "source": [
    "#### Limpiamos caracteres"
   ]
  },
  {
   "cell_type": "code",
   "execution_count": 9,
   "id": "abbc8df5-1c0b-4c60-a76e-632378ce9d55",
   "metadata": {},
   "outputs": [
    {
     "data": {
      "text/plain": [
       "33       hamburguesa vegetariana ciser hamburguesa garb...\n",
       "66       godiee burger g carne lentejas pan rucula alba...\n",
       "91       hamburguesa vegetariana doble hamburguesa lent...\n",
       "181      hamburguesa vegetariana pan artesanal sesamo h...\n",
       "258      hamburguesa vegetariana pan batta dos hamburgu...\n",
       "                               ...                        \n",
       "97882    jesse pinkman burger medallon g carne mayonesa...\n",
       "97884    hamburguesa doble doble carne casera huevo fri...\n",
       "97885    burger bacon pan brioche gr carne tomate huevo...\n",
       "97886    hamburguesa king size doble burger doble chedd...\n",
       "97888    hamburguesa plato dos hamburguesas cebolla hue...\n",
       "Name: description, Length: 7173, dtype: object"
      ]
     },
     "execution_count": 9,
     "metadata": {},
     "output_type": "execute_result"
    }
   ],
   "source": [
    "samples['description'] = samples['description'].apply(description_to_words)\n",
    "samples['description']"
   ]
  },
  {
   "cell_type": "code",
   "execution_count": 10,
   "id": "78674916-47e7-4c2e-befd-052b9006b7c7",
   "metadata": {},
   "outputs": [],
   "source": [
    "sentences = list(samples['description'])\n",
    "\n",
    "for i in range(len(sentences)):\n",
    "    sentences[i] = sentences[i].split()"
   ]
  },
  {
   "cell_type": "markdown",
   "id": "8c76be5b-3449-481d-a382-103957623d00",
   "metadata": {},
   "source": [
    "#### Ejemplo de producto tokenizado:"
   ]
  },
  {
   "cell_type": "code",
   "execution_count": 51,
   "id": "d0932d91-4cfe-44cd-a11b-fe34bd77811b",
   "metadata": {},
   "outputs": [],
   "source": [
    "G = nx.MultiGraph()"
   ]
  },
  {
   "cell_type": "code",
   "execution_count": 52,
   "id": "c7a21ce8-181d-45a1-9a2f-1a06095165ce",
   "metadata": {},
   "outputs": [],
   "source": [
    "burguer_synonyms = ['hamburguesa', 'Hamburguesa', 'burger', 'Burger', 'sanguche', 'Sanguche', 'sandwich', 'hamburguesas', 'sándwich', 'Sándwich']\n",
    "for sentence in sentences:\n",
    "    for (a, b) in list(itertools.combinations(sentence, 2)):\n",
    "        if not (a in burguer_synonyms or b in burguer_synonyms):\n",
    "            G.add_edge(a, b)"
   ]
  },
  {
   "cell_type": "code",
   "execution_count": 53,
   "id": "42f94b4e-34d8-4081-8816-b79ee1f8a3ea",
   "metadata": {
    "tags": []
   },
   "outputs": [],
   "source": [
    "nx.write_gexf(G, \"comiditas.gexf\")"
   ]
  },
  {
   "cell_type": "code",
   "execution_count": 54,
   "id": "46618b74-07d7-482f-a54e-9069ee4da26b",
   "metadata": {},
   "outputs": [],
   "source": [
    "res = nx.isomorphism.ISMAGS(G, G)"
   ]
  },
  {
   "cell_type": "code",
   "execution_count": 60,
   "id": "36cd5184-55bf-4339-94e7-57442da0418c",
   "metadata": {},
   "outputs": [],
   "source": [
    "asd = res.largest_common_subgraph()"
   ]
  }
 ],
 "metadata": {
  "kernelspec": {
   "display_name": "ADS",
   "language": "python",
   "name": "ads"
  },
  "language_info": {
   "codemirror_mode": {
    "name": "ipython",
    "version": 3
   },
   "file_extension": ".py",
   "mimetype": "text/x-python",
   "name": "python",
   "nbconvert_exporter": "python",
   "pygments_lexer": "ipython3",
   "version": "3.8.5"
  }
 },
 "nbformat": 4,
 "nbformat_minor": 5
}
